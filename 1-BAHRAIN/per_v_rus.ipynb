{
 "cells": [
  {
   "cell_type": "code",
   "execution_count": 15,
   "metadata": {},
   "outputs": [],
   "source": [
    "import fastf1 as ff1\n",
    "from fastf1 import plotting\n",
    "from matplotlib import pyplot as plt\n",
    "from matplotlib.collections import LineCollection\n",
    "from matplotlib import cm\n",
    "import numpy as np\n",
    "import pandas as pd\n",
    "\n",
    "ff1.Cache.enable_cache(\"cache\")\n",
    "plotting.setup_mpl()"
   ]
  },
  {
   "cell_type": "code",
   "execution_count": 16,
   "metadata": {},
   "outputs": [
    {
     "name": "stderr",
     "output_type": "stream",
     "text": [
      "core           INFO \tLoading data for Bahrain Grand Prix - Qualifying [v2.2.1]\n",
      "api            INFO \tUsing cached data for driver_info\n",
      "api            INFO \tUsing cached data for timing_data\n",
      "api            INFO \tUsing cached data for timing_app_data\n",
      "core           INFO \tProcessing timing data...\n",
      "api            INFO \tUsing cached data for session_status_data\n",
      "api            INFO \tUsing cached data for track_status_data\n",
      "api            INFO \tUsing cached data for car_data\n",
      "api            INFO \tUsing cached data for position_data\n",
      "api            INFO \tUsing cached data for weather_data\n",
      "core           INFO \tFinished loading data for 20 drivers: ['16', '1', '55', '11', '44', '77', '20', '14', '63', '10', '31', '47', '4', '23', '24', '22', '27', '3', '18', '6']\n"
     ]
    }
   ],
   "source": [
    "q = ff1.get_session(2022, \"Bahrain\", \"Q\")\n",
    "q.load(telemetry=True)"
   ]
  },
  {
   "cell_type": "code",
   "execution_count": 17,
   "metadata": {},
   "outputs": [],
   "source": [
    "lap_russell = q.laps.pick_driver(\"RUS\").pick_fastest().get_car_data().add_distance()\n",
    "lap_perez = q.laps.pick_driver(\"PER\").pick_fastest().get_car_data().add_distance()\n",
    "\n",
    "lap_russell[\"Driver\"] = \"RUS\"\n",
    "lap_perez[\"Driver\"] = \"PER\""
   ]
  },
  {
   "cell_type": "code",
   "execution_count": 18,
   "metadata": {},
   "outputs": [],
   "source": [
    "telemetry = pd.concat([lap_russell, lap_perez], axis=0)"
   ]
  },
  {
   "cell_type": "code",
   "execution_count": 19,
   "metadata": {},
   "outputs": [
    {
     "data": {
      "text/html": [
       "<div>\n",
       "<style scoped>\n",
       "    .dataframe tbody tr th:only-of-type {\n",
       "        vertical-align: middle;\n",
       "    }\n",
       "\n",
       "    .dataframe tbody tr th {\n",
       "        vertical-align: top;\n",
       "    }\n",
       "\n",
       "    .dataframe thead th {\n",
       "        text-align: right;\n",
       "    }\n",
       "</style>\n",
       "<table border=\"1\" class=\"dataframe\">\n",
       "  <thead>\n",
       "    <tr style=\"text-align: right;\">\n",
       "      <th></th>\n",
       "      <th>Date</th>\n",
       "      <th>RPM</th>\n",
       "      <th>Speed</th>\n",
       "      <th>nGear</th>\n",
       "      <th>Throttle</th>\n",
       "      <th>Brake</th>\n",
       "      <th>DRS</th>\n",
       "      <th>Source</th>\n",
       "      <th>Time</th>\n",
       "      <th>SessionTime</th>\n",
       "      <th>Distance</th>\n",
       "      <th>Driver</th>\n",
       "    </tr>\n",
       "  </thead>\n",
       "  <tbody>\n",
       "    <tr>\n",
       "      <th>0</th>\n",
       "      <td>2022-03-19 15:38:59.208</td>\n",
       "      <td>10673</td>\n",
       "      <td>289</td>\n",
       "      <td>8</td>\n",
       "      <td>100</td>\n",
       "      <td>False</td>\n",
       "      <td>12</td>\n",
       "      <td>car</td>\n",
       "      <td>0 days 00:00:00.004000</td>\n",
       "      <td>0 days 00:53:58.279000</td>\n",
       "      <td>0.321111</td>\n",
       "      <td>RUS</td>\n",
       "    </tr>\n",
       "    <tr>\n",
       "      <th>1</th>\n",
       "      <td>2022-03-19 15:38:59.488</td>\n",
       "      <td>10764</td>\n",
       "      <td>292</td>\n",
       "      <td>8</td>\n",
       "      <td>100</td>\n",
       "      <td>False</td>\n",
       "      <td>12</td>\n",
       "      <td>car</td>\n",
       "      <td>0 days 00:00:00.284000</td>\n",
       "      <td>0 days 00:53:58.559000</td>\n",
       "      <td>23.032222</td>\n",
       "      <td>RUS</td>\n",
       "    </tr>\n",
       "    <tr>\n",
       "      <th>2</th>\n",
       "      <td>2022-03-19 15:38:59.688</td>\n",
       "      <td>10770</td>\n",
       "      <td>293</td>\n",
       "      <td>8</td>\n",
       "      <td>100</td>\n",
       "      <td>False</td>\n",
       "      <td>12</td>\n",
       "      <td>car</td>\n",
       "      <td>0 days 00:00:00.484000</td>\n",
       "      <td>0 days 00:53:58.759000</td>\n",
       "      <td>39.310000</td>\n",
       "      <td>RUS</td>\n",
       "    </tr>\n",
       "    <tr>\n",
       "      <th>3</th>\n",
       "      <td>2022-03-19 15:39:00.128</td>\n",
       "      <td>10912</td>\n",
       "      <td>296</td>\n",
       "      <td>8</td>\n",
       "      <td>100</td>\n",
       "      <td>False</td>\n",
       "      <td>12</td>\n",
       "      <td>car</td>\n",
       "      <td>0 days 00:00:00.924000</td>\n",
       "      <td>0 days 00:53:59.199000</td>\n",
       "      <td>75.487778</td>\n",
       "      <td>RUS</td>\n",
       "    </tr>\n",
       "    <tr>\n",
       "      <th>4</th>\n",
       "      <td>2022-03-19 15:39:00.408</td>\n",
       "      <td>10992</td>\n",
       "      <td>298</td>\n",
       "      <td>8</td>\n",
       "      <td>100</td>\n",
       "      <td>False</td>\n",
       "      <td>12</td>\n",
       "      <td>car</td>\n",
       "      <td>0 days 00:00:01.204000</td>\n",
       "      <td>0 days 00:53:59.479000</td>\n",
       "      <td>98.665556</td>\n",
       "      <td>RUS</td>\n",
       "    </tr>\n",
       "    <tr>\n",
       "      <th>...</th>\n",
       "      <td>...</td>\n",
       "      <td>...</td>\n",
       "      <td>...</td>\n",
       "      <td>...</td>\n",
       "      <td>...</td>\n",
       "      <td>...</td>\n",
       "      <td>...</td>\n",
       "      <td>...</td>\n",
       "      <td>...</td>\n",
       "      <td>...</td>\n",
       "      <td>...</td>\n",
       "      <td>...</td>\n",
       "    </tr>\n",
       "    <tr>\n",
       "      <th>332</th>\n",
       "      <td>2022-03-19 16:00:21.492</td>\n",
       "      <td>11205</td>\n",
       "      <td>280</td>\n",
       "      <td>7</td>\n",
       "      <td>100</td>\n",
       "      <td>False</td>\n",
       "      <td>12</td>\n",
       "      <td>car</td>\n",
       "      <td>0 days 00:01:29.891000</td>\n",
       "      <td>0 days 01:15:20.563000</td>\n",
       "      <td>5281.917222</td>\n",
       "      <td>PER</td>\n",
       "    </tr>\n",
       "    <tr>\n",
       "      <th>333</th>\n",
       "      <td>2022-03-19 16:00:21.731</td>\n",
       "      <td>11304</td>\n",
       "      <td>284</td>\n",
       "      <td>7</td>\n",
       "      <td>100</td>\n",
       "      <td>False</td>\n",
       "      <td>12</td>\n",
       "      <td>car</td>\n",
       "      <td>0 days 00:01:30.130000</td>\n",
       "      <td>0 days 01:15:20.802000</td>\n",
       "      <td>5300.771667</td>\n",
       "      <td>PER</td>\n",
       "    </tr>\n",
       "    <tr>\n",
       "      <th>334</th>\n",
       "      <td>2022-03-19 16:00:22.051</td>\n",
       "      <td>11336</td>\n",
       "      <td>288</td>\n",
       "      <td>7</td>\n",
       "      <td>100</td>\n",
       "      <td>False</td>\n",
       "      <td>12</td>\n",
       "      <td>car</td>\n",
       "      <td>0 days 00:01:30.450000</td>\n",
       "      <td>0 days 01:15:21.122000</td>\n",
       "      <td>5326.371667</td>\n",
       "      <td>PER</td>\n",
       "    </tr>\n",
       "    <tr>\n",
       "      <th>335</th>\n",
       "      <td>2022-03-19 16:00:22.211</td>\n",
       "      <td>11440</td>\n",
       "      <td>289</td>\n",
       "      <td>7</td>\n",
       "      <td>100</td>\n",
       "      <td>False</td>\n",
       "      <td>12</td>\n",
       "      <td>car</td>\n",
       "      <td>0 days 00:01:30.610000</td>\n",
       "      <td>0 days 01:15:21.282000</td>\n",
       "      <td>5339.216111</td>\n",
       "      <td>PER</td>\n",
       "    </tr>\n",
       "    <tr>\n",
       "      <th>336</th>\n",
       "      <td>2022-03-19 16:00:22.371</td>\n",
       "      <td>11536</td>\n",
       "      <td>290</td>\n",
       "      <td>7</td>\n",
       "      <td>100</td>\n",
       "      <td>False</td>\n",
       "      <td>12</td>\n",
       "      <td>car</td>\n",
       "      <td>0 days 00:01:30.770000</td>\n",
       "      <td>0 days 01:15:21.442000</td>\n",
       "      <td>5352.105000</td>\n",
       "      <td>PER</td>\n",
       "    </tr>\n",
       "  </tbody>\n",
       "</table>\n",
       "<p>678 rows × 12 columns</p>\n",
       "</div>"
      ],
      "text/plain": [
       "                       Date    RPM  Speed  nGear  Throttle  Brake  DRS Source  \\\n",
       "0   2022-03-19 15:38:59.208  10673    289      8       100  False   12    car   \n",
       "1   2022-03-19 15:38:59.488  10764    292      8       100  False   12    car   \n",
       "2   2022-03-19 15:38:59.688  10770    293      8       100  False   12    car   \n",
       "3   2022-03-19 15:39:00.128  10912    296      8       100  False   12    car   \n",
       "4   2022-03-19 15:39:00.408  10992    298      8       100  False   12    car   \n",
       "..                      ...    ...    ...    ...       ...    ...  ...    ...   \n",
       "332 2022-03-19 16:00:21.492  11205    280      7       100  False   12    car   \n",
       "333 2022-03-19 16:00:21.731  11304    284      7       100  False   12    car   \n",
       "334 2022-03-19 16:00:22.051  11336    288      7       100  False   12    car   \n",
       "335 2022-03-19 16:00:22.211  11440    289      7       100  False   12    car   \n",
       "336 2022-03-19 16:00:22.371  11536    290      7       100  False   12    car   \n",
       "\n",
       "                      Time            SessionTime     Distance Driver  \n",
       "0   0 days 00:00:00.004000 0 days 00:53:58.279000     0.321111    RUS  \n",
       "1   0 days 00:00:00.284000 0 days 00:53:58.559000    23.032222    RUS  \n",
       "2   0 days 00:00:00.484000 0 days 00:53:58.759000    39.310000    RUS  \n",
       "3   0 days 00:00:00.924000 0 days 00:53:59.199000    75.487778    RUS  \n",
       "4   0 days 00:00:01.204000 0 days 00:53:59.479000    98.665556    RUS  \n",
       "..                     ...                    ...          ...    ...  \n",
       "332 0 days 00:01:29.891000 0 days 01:15:20.563000  5281.917222    PER  \n",
       "333 0 days 00:01:30.130000 0 days 01:15:20.802000  5300.771667    PER  \n",
       "334 0 days 00:01:30.450000 0 days 01:15:21.122000  5326.371667    PER  \n",
       "335 0 days 00:01:30.610000 0 days 01:15:21.282000  5339.216111    PER  \n",
       "336 0 days 00:01:30.770000 0 days 01:15:21.442000  5352.105000    PER  \n",
       "\n",
       "[678 rows x 12 columns]"
      ]
     },
     "execution_count": 19,
     "metadata": {},
     "output_type": "execute_result"
    }
   ],
   "source": [
    "telemetry"
   ]
  },
  {
   "cell_type": "code",
   "execution_count": 20,
   "metadata": {},
   "outputs": [],
   "source": [
    "num_minisectors = 30\n",
    "\n",
    "total_distance = max(telemetry[\"Distance\"])\n",
    "\n",
    "minisector_length = total_distance / num_minisectors"
   ]
  },
  {
   "cell_type": "code",
   "execution_count": 21,
   "metadata": {},
   "outputs": [],
   "source": [
    "minisectors = [0]\n",
    "for i in range(0, (num_minisectors - 1)):\n",
    "    minisectors.append(minisector_length * (i + 1))"
   ]
  },
  {
   "cell_type": "code",
   "execution_count": 22,
   "metadata": {},
   "outputs": [],
   "source": [
    "telemetry[\"Minisector\"] = telemetry[\"Distance\"].apply(\n",
    "    lambda dist: (int((dist // minisector_length) + 1))\n",
    ")\n",
    "\n",
    "average_speed = (\n",
    "    telemetry.groupby([\"Minisector\", \"Driver\"])[\"Speed\"].mean().reset_index()\n",
    ")"
   ]
  },
  {
   "cell_type": "code",
   "execution_count": 23,
   "metadata": {},
   "outputs": [
    {
     "data": {
      "text/html": [
       "<div>\n",
       "<style scoped>\n",
       "    .dataframe tbody tr th:only-of-type {\n",
       "        vertical-align: middle;\n",
       "    }\n",
       "\n",
       "    .dataframe tbody tr th {\n",
       "        vertical-align: top;\n",
       "    }\n",
       "\n",
       "    .dataframe thead th {\n",
       "        text-align: right;\n",
       "    }\n",
       "</style>\n",
       "<table border=\"1\" class=\"dataframe\">\n",
       "  <thead>\n",
       "    <tr style=\"text-align: right;\">\n",
       "      <th></th>\n",
       "      <th>Date</th>\n",
       "      <th>RPM</th>\n",
       "      <th>Speed</th>\n",
       "      <th>nGear</th>\n",
       "      <th>Throttle</th>\n",
       "      <th>Brake</th>\n",
       "      <th>DRS</th>\n",
       "      <th>Source</th>\n",
       "      <th>Time</th>\n",
       "      <th>SessionTime</th>\n",
       "      <th>Distance</th>\n",
       "      <th>Driver</th>\n",
       "      <th>Minisector</th>\n",
       "    </tr>\n",
       "  </thead>\n",
       "  <tbody>\n",
       "    <tr>\n",
       "      <th>0</th>\n",
       "      <td>2022-03-19 15:38:59.208</td>\n",
       "      <td>10673</td>\n",
       "      <td>289</td>\n",
       "      <td>8</td>\n",
       "      <td>100</td>\n",
       "      <td>False</td>\n",
       "      <td>12</td>\n",
       "      <td>car</td>\n",
       "      <td>0 days 00:00:00.004000</td>\n",
       "      <td>0 days 00:53:58.279000</td>\n",
       "      <td>0.321111</td>\n",
       "      <td>RUS</td>\n",
       "      <td>1</td>\n",
       "    </tr>\n",
       "    <tr>\n",
       "      <th>1</th>\n",
       "      <td>2022-03-19 15:38:59.488</td>\n",
       "      <td>10764</td>\n",
       "      <td>292</td>\n",
       "      <td>8</td>\n",
       "      <td>100</td>\n",
       "      <td>False</td>\n",
       "      <td>12</td>\n",
       "      <td>car</td>\n",
       "      <td>0 days 00:00:00.284000</td>\n",
       "      <td>0 days 00:53:58.559000</td>\n",
       "      <td>23.032222</td>\n",
       "      <td>RUS</td>\n",
       "      <td>1</td>\n",
       "    </tr>\n",
       "    <tr>\n",
       "      <th>2</th>\n",
       "      <td>2022-03-19 15:38:59.688</td>\n",
       "      <td>10770</td>\n",
       "      <td>293</td>\n",
       "      <td>8</td>\n",
       "      <td>100</td>\n",
       "      <td>False</td>\n",
       "      <td>12</td>\n",
       "      <td>car</td>\n",
       "      <td>0 days 00:00:00.484000</td>\n",
       "      <td>0 days 00:53:58.759000</td>\n",
       "      <td>39.310000</td>\n",
       "      <td>RUS</td>\n",
       "      <td>1</td>\n",
       "    </tr>\n",
       "    <tr>\n",
       "      <th>3</th>\n",
       "      <td>2022-03-19 15:39:00.128</td>\n",
       "      <td>10912</td>\n",
       "      <td>296</td>\n",
       "      <td>8</td>\n",
       "      <td>100</td>\n",
       "      <td>False</td>\n",
       "      <td>12</td>\n",
       "      <td>car</td>\n",
       "      <td>0 days 00:00:00.924000</td>\n",
       "      <td>0 days 00:53:59.199000</td>\n",
       "      <td>75.487778</td>\n",
       "      <td>RUS</td>\n",
       "      <td>1</td>\n",
       "    </tr>\n",
       "    <tr>\n",
       "      <th>4</th>\n",
       "      <td>2022-03-19 15:39:00.408</td>\n",
       "      <td>10992</td>\n",
       "      <td>298</td>\n",
       "      <td>8</td>\n",
       "      <td>100</td>\n",
       "      <td>False</td>\n",
       "      <td>12</td>\n",
       "      <td>car</td>\n",
       "      <td>0 days 00:00:01.204000</td>\n",
       "      <td>0 days 00:53:59.479000</td>\n",
       "      <td>98.665556</td>\n",
       "      <td>RUS</td>\n",
       "      <td>1</td>\n",
       "    </tr>\n",
       "    <tr>\n",
       "      <th>...</th>\n",
       "      <td>...</td>\n",
       "      <td>...</td>\n",
       "      <td>...</td>\n",
       "      <td>...</td>\n",
       "      <td>...</td>\n",
       "      <td>...</td>\n",
       "      <td>...</td>\n",
       "      <td>...</td>\n",
       "      <td>...</td>\n",
       "      <td>...</td>\n",
       "      <td>...</td>\n",
       "      <td>...</td>\n",
       "      <td>...</td>\n",
       "    </tr>\n",
       "    <tr>\n",
       "      <th>332</th>\n",
       "      <td>2022-03-19 16:00:21.492</td>\n",
       "      <td>11205</td>\n",
       "      <td>280</td>\n",
       "      <td>7</td>\n",
       "      <td>100</td>\n",
       "      <td>False</td>\n",
       "      <td>12</td>\n",
       "      <td>car</td>\n",
       "      <td>0 days 00:01:29.891000</td>\n",
       "      <td>0 days 01:15:20.563000</td>\n",
       "      <td>5281.917222</td>\n",
       "      <td>PER</td>\n",
       "      <td>30</td>\n",
       "    </tr>\n",
       "    <tr>\n",
       "      <th>333</th>\n",
       "      <td>2022-03-19 16:00:21.731</td>\n",
       "      <td>11304</td>\n",
       "      <td>284</td>\n",
       "      <td>7</td>\n",
       "      <td>100</td>\n",
       "      <td>False</td>\n",
       "      <td>12</td>\n",
       "      <td>car</td>\n",
       "      <td>0 days 00:01:30.130000</td>\n",
       "      <td>0 days 01:15:20.802000</td>\n",
       "      <td>5300.771667</td>\n",
       "      <td>PER</td>\n",
       "      <td>30</td>\n",
       "    </tr>\n",
       "    <tr>\n",
       "      <th>334</th>\n",
       "      <td>2022-03-19 16:00:22.051</td>\n",
       "      <td>11336</td>\n",
       "      <td>288</td>\n",
       "      <td>7</td>\n",
       "      <td>100</td>\n",
       "      <td>False</td>\n",
       "      <td>12</td>\n",
       "      <td>car</td>\n",
       "      <td>0 days 00:01:30.450000</td>\n",
       "      <td>0 days 01:15:21.122000</td>\n",
       "      <td>5326.371667</td>\n",
       "      <td>PER</td>\n",
       "      <td>30</td>\n",
       "    </tr>\n",
       "    <tr>\n",
       "      <th>335</th>\n",
       "      <td>2022-03-19 16:00:22.211</td>\n",
       "      <td>11440</td>\n",
       "      <td>289</td>\n",
       "      <td>7</td>\n",
       "      <td>100</td>\n",
       "      <td>False</td>\n",
       "      <td>12</td>\n",
       "      <td>car</td>\n",
       "      <td>0 days 00:01:30.610000</td>\n",
       "      <td>0 days 01:15:21.282000</td>\n",
       "      <td>5339.216111</td>\n",
       "      <td>PER</td>\n",
       "      <td>30</td>\n",
       "    </tr>\n",
       "    <tr>\n",
       "      <th>336</th>\n",
       "      <td>2022-03-19 16:00:22.371</td>\n",
       "      <td>11536</td>\n",
       "      <td>290</td>\n",
       "      <td>7</td>\n",
       "      <td>100</td>\n",
       "      <td>False</td>\n",
       "      <td>12</td>\n",
       "      <td>car</td>\n",
       "      <td>0 days 00:01:30.770000</td>\n",
       "      <td>0 days 01:15:21.442000</td>\n",
       "      <td>5352.105000</td>\n",
       "      <td>PER</td>\n",
       "      <td>30</td>\n",
       "    </tr>\n",
       "  </tbody>\n",
       "</table>\n",
       "<p>678 rows × 13 columns</p>\n",
       "</div>"
      ],
      "text/plain": [
       "                       Date    RPM  Speed  nGear  Throttle  Brake  DRS Source  \\\n",
       "0   2022-03-19 15:38:59.208  10673    289      8       100  False   12    car   \n",
       "1   2022-03-19 15:38:59.488  10764    292      8       100  False   12    car   \n",
       "2   2022-03-19 15:38:59.688  10770    293      8       100  False   12    car   \n",
       "3   2022-03-19 15:39:00.128  10912    296      8       100  False   12    car   \n",
       "4   2022-03-19 15:39:00.408  10992    298      8       100  False   12    car   \n",
       "..                      ...    ...    ...    ...       ...    ...  ...    ...   \n",
       "332 2022-03-19 16:00:21.492  11205    280      7       100  False   12    car   \n",
       "333 2022-03-19 16:00:21.731  11304    284      7       100  False   12    car   \n",
       "334 2022-03-19 16:00:22.051  11336    288      7       100  False   12    car   \n",
       "335 2022-03-19 16:00:22.211  11440    289      7       100  False   12    car   \n",
       "336 2022-03-19 16:00:22.371  11536    290      7       100  False   12    car   \n",
       "\n",
       "                      Time            SessionTime     Distance Driver  \\\n",
       "0   0 days 00:00:00.004000 0 days 00:53:58.279000     0.321111    RUS   \n",
       "1   0 days 00:00:00.284000 0 days 00:53:58.559000    23.032222    RUS   \n",
       "2   0 days 00:00:00.484000 0 days 00:53:58.759000    39.310000    RUS   \n",
       "3   0 days 00:00:00.924000 0 days 00:53:59.199000    75.487778    RUS   \n",
       "4   0 days 00:00:01.204000 0 days 00:53:59.479000    98.665556    RUS   \n",
       "..                     ...                    ...          ...    ...   \n",
       "332 0 days 00:01:29.891000 0 days 01:15:20.563000  5281.917222    PER   \n",
       "333 0 days 00:01:30.130000 0 days 01:15:20.802000  5300.771667    PER   \n",
       "334 0 days 00:01:30.450000 0 days 01:15:21.122000  5326.371667    PER   \n",
       "335 0 days 00:01:30.610000 0 days 01:15:21.282000  5339.216111    PER   \n",
       "336 0 days 00:01:30.770000 0 days 01:15:21.442000  5352.105000    PER   \n",
       "\n",
       "     Minisector  \n",
       "0             1  \n",
       "1             1  \n",
       "2             1  \n",
       "3             1  \n",
       "4             1  \n",
       "..          ...  \n",
       "332          30  \n",
       "333          30  \n",
       "334          30  \n",
       "335          30  \n",
       "336          30  \n",
       "\n",
       "[678 rows x 13 columns]"
      ]
     },
     "execution_count": 23,
     "metadata": {},
     "output_type": "execute_result"
    }
   ],
   "source": [
    "telemetry"
   ]
  },
  {
   "cell_type": "code",
   "execution_count": 24,
   "metadata": {},
   "outputs": [
    {
     "data": {
      "text/html": [
       "<div>\n",
       "<style scoped>\n",
       "    .dataframe tbody tr th:only-of-type {\n",
       "        vertical-align: middle;\n",
       "    }\n",
       "\n",
       "    .dataframe tbody tr th {\n",
       "        vertical-align: top;\n",
       "    }\n",
       "\n",
       "    .dataframe thead th {\n",
       "        text-align: right;\n",
       "    }\n",
       "</style>\n",
       "<table border=\"1\" class=\"dataframe\">\n",
       "  <thead>\n",
       "    <tr style=\"text-align: right;\">\n",
       "      <th></th>\n",
       "      <th>Date</th>\n",
       "      <th>RPM</th>\n",
       "      <th>Speed</th>\n",
       "      <th>nGear</th>\n",
       "      <th>Throttle</th>\n",
       "      <th>Brake</th>\n",
       "      <th>DRS</th>\n",
       "      <th>Source</th>\n",
       "      <th>Time</th>\n",
       "      <th>SessionTime</th>\n",
       "      <th>Distance</th>\n",
       "      <th>Driver</th>\n",
       "      <th>Minisector</th>\n",
       "      <th>Fastest_driver</th>\n",
       "      <th>Fastest_driver_int</th>\n",
       "    </tr>\n",
       "  </thead>\n",
       "  <tbody>\n",
       "    <tr>\n",
       "      <th>0</th>\n",
       "      <td>2022-03-19 15:38:59.208</td>\n",
       "      <td>10673</td>\n",
       "      <td>289</td>\n",
       "      <td>8</td>\n",
       "      <td>100</td>\n",
       "      <td>False</td>\n",
       "      <td>12</td>\n",
       "      <td>car</td>\n",
       "      <td>0 days 00:00:00.004000</td>\n",
       "      <td>0 days 00:53:58.279000</td>\n",
       "      <td>0.321111</td>\n",
       "      <td>RUS</td>\n",
       "      <td>1</td>\n",
       "      <td>PER</td>\n",
       "      <td>NaN</td>\n",
       "    </tr>\n",
       "    <tr>\n",
       "      <th>1</th>\n",
       "      <td>2022-03-19 15:38:59.488</td>\n",
       "      <td>10764</td>\n",
       "      <td>292</td>\n",
       "      <td>8</td>\n",
       "      <td>100</td>\n",
       "      <td>False</td>\n",
       "      <td>12</td>\n",
       "      <td>car</td>\n",
       "      <td>0 days 00:00:00.284000</td>\n",
       "      <td>0 days 00:53:58.559000</td>\n",
       "      <td>23.032222</td>\n",
       "      <td>RUS</td>\n",
       "      <td>1</td>\n",
       "      <td>PER</td>\n",
       "      <td>NaN</td>\n",
       "    </tr>\n",
       "    <tr>\n",
       "      <th>8</th>\n",
       "      <td>2022-03-19 15:58:51.891</td>\n",
       "      <td>10456</td>\n",
       "      <td>296</td>\n",
       "      <td>8</td>\n",
       "      <td>100</td>\n",
       "      <td>False</td>\n",
       "      <td>12</td>\n",
       "      <td>car</td>\n",
       "      <td>0 days 00:00:00.290000</td>\n",
       "      <td>0 days 01:13:50.962000</td>\n",
       "      <td>23.844444</td>\n",
       "      <td>PER</td>\n",
       "      <td>1</td>\n",
       "      <td>PER</td>\n",
       "      <td>NaN</td>\n",
       "    </tr>\n",
       "    <tr>\n",
       "      <th>9</th>\n",
       "      <td>2022-03-19 15:58:52.051</td>\n",
       "      <td>10705</td>\n",
       "      <td>296</td>\n",
       "      <td>8</td>\n",
       "      <td>100</td>\n",
       "      <td>False</td>\n",
       "      <td>12</td>\n",
       "      <td>car</td>\n",
       "      <td>0 days 00:00:00.450000</td>\n",
       "      <td>0 days 01:13:51.122000</td>\n",
       "      <td>37.000000</td>\n",
       "      <td>PER</td>\n",
       "      <td>1</td>\n",
       "      <td>PER</td>\n",
       "      <td>NaN</td>\n",
       "    </tr>\n",
       "    <tr>\n",
       "      <th>2</th>\n",
       "      <td>2022-03-19 15:38:59.688</td>\n",
       "      <td>10770</td>\n",
       "      <td>293</td>\n",
       "      <td>8</td>\n",
       "      <td>100</td>\n",
       "      <td>False</td>\n",
       "      <td>12</td>\n",
       "      <td>car</td>\n",
       "      <td>0 days 00:00:00.484000</td>\n",
       "      <td>0 days 00:53:58.759000</td>\n",
       "      <td>39.310000</td>\n",
       "      <td>RUS</td>\n",
       "      <td>1</td>\n",
       "      <td>PER</td>\n",
       "      <td>NaN</td>\n",
       "    </tr>\n",
       "    <tr>\n",
       "      <th>...</th>\n",
       "      <td>...</td>\n",
       "      <td>...</td>\n",
       "      <td>...</td>\n",
       "      <td>...</td>\n",
       "      <td>...</td>\n",
       "      <td>...</td>\n",
       "      <td>...</td>\n",
       "      <td>...</td>\n",
       "      <td>...</td>\n",
       "      <td>...</td>\n",
       "      <td>...</td>\n",
       "      <td>...</td>\n",
       "      <td>...</td>\n",
       "      <td>...</td>\n",
       "      <td>...</td>\n",
       "    </tr>\n",
       "    <tr>\n",
       "      <th>665</th>\n",
       "      <td>2022-03-19 15:40:29.968</td>\n",
       "      <td>11622</td>\n",
       "      <td>285</td>\n",
       "      <td>7</td>\n",
       "      <td>100</td>\n",
       "      <td>False</td>\n",
       "      <td>12</td>\n",
       "      <td>car</td>\n",
       "      <td>0 days 00:01:30.764000</td>\n",
       "      <td>0 days 00:55:29.039000</td>\n",
       "      <td>5324.998056</td>\n",
       "      <td>RUS</td>\n",
       "      <td>30</td>\n",
       "      <td>PER</td>\n",
       "      <td>NaN</td>\n",
       "    </tr>\n",
       "    <tr>\n",
       "      <th>675</th>\n",
       "      <td>2022-03-19 16:00:22.051</td>\n",
       "      <td>11336</td>\n",
       "      <td>288</td>\n",
       "      <td>7</td>\n",
       "      <td>100</td>\n",
       "      <td>False</td>\n",
       "      <td>12</td>\n",
       "      <td>car</td>\n",
       "      <td>0 days 00:01:30.450000</td>\n",
       "      <td>0 days 01:15:21.122000</td>\n",
       "      <td>5326.371667</td>\n",
       "      <td>PER</td>\n",
       "      <td>30</td>\n",
       "      <td>PER</td>\n",
       "      <td>NaN</td>\n",
       "    </tr>\n",
       "    <tr>\n",
       "      <th>676</th>\n",
       "      <td>2022-03-19 16:00:22.211</td>\n",
       "      <td>11440</td>\n",
       "      <td>289</td>\n",
       "      <td>7</td>\n",
       "      <td>100</td>\n",
       "      <td>False</td>\n",
       "      <td>12</td>\n",
       "      <td>car</td>\n",
       "      <td>0 days 00:01:30.610000</td>\n",
       "      <td>0 days 01:15:21.282000</td>\n",
       "      <td>5339.216111</td>\n",
       "      <td>PER</td>\n",
       "      <td>30</td>\n",
       "      <td>PER</td>\n",
       "      <td>NaN</td>\n",
       "    </tr>\n",
       "    <tr>\n",
       "      <th>677</th>\n",
       "      <td>2022-03-19 16:00:22.371</td>\n",
       "      <td>11536</td>\n",
       "      <td>290</td>\n",
       "      <td>7</td>\n",
       "      <td>100</td>\n",
       "      <td>False</td>\n",
       "      <td>12</td>\n",
       "      <td>car</td>\n",
       "      <td>0 days 00:01:30.770000</td>\n",
       "      <td>0 days 01:15:21.442000</td>\n",
       "      <td>5352.105000</td>\n",
       "      <td>PER</td>\n",
       "      <td>30</td>\n",
       "      <td>PER</td>\n",
       "      <td>NaN</td>\n",
       "    </tr>\n",
       "    <tr>\n",
       "      <th>666</th>\n",
       "      <td>2022-03-19 15:40:30.327</td>\n",
       "      <td>10573</td>\n",
       "      <td>286</td>\n",
       "      <td>8</td>\n",
       "      <td>100</td>\n",
       "      <td>False</td>\n",
       "      <td>12</td>\n",
       "      <td>car</td>\n",
       "      <td>0 days 00:01:31.123000</td>\n",
       "      <td>0 days 00:55:29.398000</td>\n",
       "      <td>5353.518611</td>\n",
       "      <td>RUS</td>\n",
       "      <td>30</td>\n",
       "      <td>PER</td>\n",
       "      <td>NaN</td>\n",
       "    </tr>\n",
       "  </tbody>\n",
       "</table>\n",
       "<p>678 rows × 15 columns</p>\n",
       "</div>"
      ],
      "text/plain": [
       "                       Date    RPM  Speed  nGear  Throttle  Brake  DRS Source  \\\n",
       "0   2022-03-19 15:38:59.208  10673    289      8       100  False   12    car   \n",
       "1   2022-03-19 15:38:59.488  10764    292      8       100  False   12    car   \n",
       "8   2022-03-19 15:58:51.891  10456    296      8       100  False   12    car   \n",
       "9   2022-03-19 15:58:52.051  10705    296      8       100  False   12    car   \n",
       "2   2022-03-19 15:38:59.688  10770    293      8       100  False   12    car   \n",
       "..                      ...    ...    ...    ...       ...    ...  ...    ...   \n",
       "665 2022-03-19 15:40:29.968  11622    285      7       100  False   12    car   \n",
       "675 2022-03-19 16:00:22.051  11336    288      7       100  False   12    car   \n",
       "676 2022-03-19 16:00:22.211  11440    289      7       100  False   12    car   \n",
       "677 2022-03-19 16:00:22.371  11536    290      7       100  False   12    car   \n",
       "666 2022-03-19 15:40:30.327  10573    286      8       100  False   12    car   \n",
       "\n",
       "                      Time            SessionTime     Distance Driver  \\\n",
       "0   0 days 00:00:00.004000 0 days 00:53:58.279000     0.321111    RUS   \n",
       "1   0 days 00:00:00.284000 0 days 00:53:58.559000    23.032222    RUS   \n",
       "8   0 days 00:00:00.290000 0 days 01:13:50.962000    23.844444    PER   \n",
       "9   0 days 00:00:00.450000 0 days 01:13:51.122000    37.000000    PER   \n",
       "2   0 days 00:00:00.484000 0 days 00:53:58.759000    39.310000    RUS   \n",
       "..                     ...                    ...          ...    ...   \n",
       "665 0 days 00:01:30.764000 0 days 00:55:29.039000  5324.998056    RUS   \n",
       "675 0 days 00:01:30.450000 0 days 01:15:21.122000  5326.371667    PER   \n",
       "676 0 days 00:01:30.610000 0 days 01:15:21.282000  5339.216111    PER   \n",
       "677 0 days 00:01:30.770000 0 days 01:15:21.442000  5352.105000    PER   \n",
       "666 0 days 00:01:31.123000 0 days 00:55:29.398000  5353.518611    RUS   \n",
       "\n",
       "     Minisector Fastest_driver  Fastest_driver_int  \n",
       "0             1            PER                 NaN  \n",
       "1             1            PER                 NaN  \n",
       "8             1            PER                 NaN  \n",
       "9             1            PER                 NaN  \n",
       "2             1            PER                 NaN  \n",
       "..          ...            ...                 ...  \n",
       "665          30            PER                 NaN  \n",
       "675          30            PER                 NaN  \n",
       "676          30            PER                 NaN  \n",
       "677          30            PER                 NaN  \n",
       "666          30            PER                 NaN  \n",
       "\n",
       "[678 rows x 15 columns]"
      ]
     },
     "execution_count": 24,
     "metadata": {},
     "output_type": "execute_result"
    }
   ],
   "source": [
    "fastest_driver = average_speed.loc[\n",
    "    average_speed.groupby([\"Minisector\"])[\"Speed\"].idxmax()\n",
    "]\n",
    "\n",
    "fastest_driver = fastest_driver[[\"Minisector\", \"Driver\"]].rename(\n",
    "    columns={\"Driver\": \"Fastest_driver\"}\n",
    ")\n",
    "\n",
    "telemetry = telemetry.merge(fastest_driver, on=[\"Minisector\"])\n",
    "telemetry = telemetry.sort_values(by=[\"Distance\"])\n",
    "\n",
    "telemetry.loc[telemetry[\"Fastest_driver\"] == \"GAS\", \"Fastest_driver_int\"] = 1\n",
    "telemetry.loc[telemetry[\"Fastest_driver\"] == \"BOT\", \"Fastest_driver_int\"] = 2\n",
    "\n",
    "telemetry"
   ]
  },
  {
   "cell_type": "code",
   "execution_count": 25,
   "metadata": {},
   "outputs": [],
   "source": [
    "x_bot = np.array(telemetry[telemetry.Driver == \"BOT\"][\"Speed\"].values)\n",
    "y_bot = np.array(telemetry[telemetry.Driver == \"BOT\"][\"Time\"].values)\n",
    "\n",
    "x_gas = np.array(telemetry[telemetry.Driver == \"GAS\"][\"Speed\"].values)\n",
    "y_gas = np.array(telemetry[telemetry.Driver == \"GAS\"][\"Time\"].values)"
   ]
  },
  {
   "cell_type": "code",
   "execution_count": 26,
   "metadata": {},
   "outputs": [
    {
     "data": {
      "application/vnd.plotly.v1+json": {
       "config": {
        "plotlyServerURL": "https://plot.ly"
       },
       "data": [
        {
         "hovertemplate": "Driver=RUS<br>Distance=%{x}<br>Speed=%{y}<extra></extra>",
         "legendgroup": "RUS",
         "line": {
          "color": "#636efa",
          "dash": "solid"
         },
         "marker": {
          "symbol": "circle"
         },
         "mode": "lines",
         "name": "RUS",
         "orientation": "v",
         "showlegend": true,
         "type": "scatter",
         "x": [
          0.32111111111111107,
          23.032222222222227,
          39.31,
          75.48777777777778,
          98.66555555555557,
          118.66555555555557,
          148.76555555555555,
          175.6988888888889,
          189.16555555555556,
          202.7211111111111,
          219.7211111111111,
          240.12111111111113,
          264.07666666666665,
          277.81,
          301.8433333333333,
          329.3988888888889,
          360.4125,
          374.2791666666667,
          388.14583333333337,
          412.49027777777775,
          440.3125,
          461.1791666666667,
          482.06583333333333,
          506.48805555555555,
          523.9325,
          548.3547222222222,
          569.3547222222221,
          590.2880555555555,
          616.2880555555555,
          632.5547222222222,
          643.8324999999999,
          655.0324999999999,
          664.8991666666666,
          675.743611111111,
          684.8102777777777,
          690.3102777777777,
          694.4880555555555,
          698.4880555555555,
          704.2213888888889,
          709.6213888888889,
          713.8991666666666,
          719.5769444444444,
          723.5213888888889,
          728.0358333333332,
          732.0358333333332,
          736.9024999999999,
          740.4580555555555,
          749.3580555555554,
          761.1358333333333,
          770.658611111111,
          786.2141666666665,
          799.5474999999999,
          815.8474999999999,
          823.4030555555554,
          841.3030555555555,
          858.1030555555556,
          873.5808333333333,
          891.9808333333333,
          911.358611111111,
          923.7474999999998,
          933.7474999999998,
          956.9474999999998,
          967.3474999999999,
          985.8586111111108,
          996.7030555555552,
          1021.7030555555552,
          1044.6363888888886,
          1056.1474999999998,
          1070.6855555555555,
          1100.5744444444442,
          1115.6299999999997,
          1137.0966666666664,
          1152.5411111111107,
          1184.0641666666663,
          1209.4863888888885,
          1228.819722222222,
          1241.7530555555554,
          1261.2863888888887,
          1284.2308333333333,
          1303.9641666666664,
          1320.5197222222223,
          1347.1863888888886,
          1367.319722222222,
          1392.8308333333332,
          1414.1641666666665,
          1428.430833333333,
          1440.6308333333332,
          1452.2974999999997,
          1459.2752777777775,
          1467.4974999999997,
          1473.8530555555553,
          1481.4086111111108,
          1488.6308333333332,
          1495.6863888888886,
          1502.4641666666664,
          1510.2980555555553,
          1515.4980555555553,
          1524.9091666666664,
          1536.1980555555554,
          1543.5313888888888,
          1554.6933333333332,
          1564.7599999999998,
          1581.4599999999998,
          1599.6599999999999,
          1612.2599999999998,
          1623.204444444444,
          1634.4266666666665,
          1650.9155555555553,
          1660.4266666666665,
          1680.3377777777775,
          1695.4044444444444,
          1716.2044444444443,
          1751.1599999999999,
          1778.6044444444442,
          1798.0488888888888,
          1816.5599999999997,
          1833.982222222222,
          1843.8488888888887,
          1855.8488888888887,
          1874.191388888889,
          1892.5913888888888,
          1911.2580555555555,
          1930.7247222222222,
          1956.01,
          1971.41,
          1984.3544444444447,
          2005.4211111111108,
          2024.1655555555553,
          2051.387777777778,
          2068.121111111111,
          2087.721111111111,
          2104.721111111111,
          2126.232222222222,
          2142.2544444444443,
          2153.654444444444,
          2173.154444444444,
          2178.7099999999996,
          2190.821111111111,
          2196.4877777777774,
          2201.821111111111,
          2206.9322222222218,
          2210.843333333333,
          2215.5099999999993,
          2219.9544444444437,
          2225.8444444444435,
          2230.1777777777766,
          2233.733333333332,
          2238.344444444443,
          2244.344444444443,
          2248.50361111111,
          2260.1702777777764,
          2273.50361111111,
          2280.725833333332,
          2290.4591666666656,
          2300.925833333332,
          2309.814722222221,
          2323.581388888888,
          2333.8591666666653,
          2348.948055555554,
          2360.0591666666655,
          2376.314722222221,
          2392.959166666665,
          2425.7480555555544,
          2451.7480555555544,
          2462.2369444444435,
          2475.459166666665,
          2488.8480555555543,
          2510.625833333332,
          2535.625833333332,
          2557.9558333333325,
          2579.4669444444435,
          2602.4669444444435,
          2611.05361111111,
          2622.786944444443,
          2635.764722222221,
          2646.786944444443,
          2654.3202777777765,
          2661.05361111111,
          2669.142499999999,
          2674.9424999999987,
          2683.0424999999987,
          2689.975833333332,
          2695.0424999999987,
          2700.3091666666655,
          2707.0758333333324,
          2713.2091666666656,
          2718.7091666666656,
          2724.542499999999,
          2729.6091666666657,
          2742.509166666666,
          2750.231388888888,
          2764.009166666666,
          2781.409166666666,
          2800.4561111111107,
          2813.6561111111105,
          2829.911666666666,
          2841.971666666666,
          2851.7049999999995,
          2866.9049999999993,
          2882.4383333333326,
          2901.182777777777,
          2928.738333333333,
          2948.3383333333327,
          2980.604999999999,
          2998.5383333333325,
          3022.8049999999994,
          3053.8049999999994,
          3072.538333333333,
          3104.2049999999995,
          3126.682777777777,
          3155.982777777777,
          3169.0049999999987,
          3185.4494444444435,
          3205.3161111111103,
          3225.2494444444433,
          3245.3161111111103,
          3275.7161111111104,
          3295.831944444444,
          3308.2763888888885,
          3319.609722222222,
          3339.404722222222,
          3350.904722222222,
          3363.838055555555,
          3374.060277777777,
          3383.7269444444437,
          3393.115833333333,
          3403.915833333333,
          3421.4713888888887,
          3428.5824999999995,
          3439.5824999999995,
          3449.0269444444443,
          3466.8269444444445,
          3492.693611111111,
          3503.7491666666665,
          3522.2380555555555,
          3538.6491666666666,
          3560.7491666666665,
          3578.171388888889,
          3593.504722222222,
          3614.3936111111107,
          3630.0602777777776,
          3646.1269444444442,
          3667.993611111111,
          3687.2911111111107,
          3706.813333333333,
          3726.4833333333336,
          3740.5388888888883,
          3757.538888888889,
          3774.5388888888883,
          3785.916666666666,
          3808.938888888889,
          3823.327777777778,
          3834.927777777778,
          3858.2166666666662,
          3872.7166666666662,
          3890.2500000000005,
          3904.916666666666,
          3925.4499999999994,
          3949.0055555555555,
          3972.1055555555554,
          3993.9944444444436,
          4006.194444444444,
          4024.4166666666656,
          4033.249999999999,
          4043.316666666666,
          4054.749999999999,
          4061.105555555555,
          4071.7611111111105,
          4079.3166666666657,
          4091.8994444444434,
          4098.388333333332,
          4113.931388888888,
          4128.0647222222215,
          4148.0647222222215,
          4158.3425,
          4183.031388888889,
          4199.4425,
          4218.909166666667,
          4238.998055555556,
          4254.398055555555,
          4264.842500000001,
          4286.175833333334,
          4313.509166666668,
          4344.675833333334,
          4356.053611111111,
          4382.053611111111,
          4402.586944444445,
          4420.320277777779,
          4432.231388888889,
          4453.231388888889,
          4465.320277777778,
          4486.631388888889,
          4508.098888888889,
          4529.720277777778,
          4560.831388888889,
          4595.298055555555,
          4626.853611111111,
          4652.098055555556,
          4677.431388888889,
          4712.386944444444,
          4737.809166666667,
          4750.520277777778,
          4771.364722222223,
          4781.9425,
          4797.653611111111,
          4818.0647222222215,
          4828.464722222221,
          4844.464722222221,
          4856.464722222221,
          4862.464722222221,
          4870.931388888887,
          4882.486944444443,
          4889.986944444443,
          4896.075833333332,
          4904.131388888888,
          4926.264722222221,
          4940.031388888888,
          4950.25361111111,
          4962.986944444443,
          4976.320277777777,
          4989.986944444443,
          5004.186944444443,
          5016.298055555554,
          5026.120277777776,
          5043.775833333332,
          5054.086944444444,
          5067.086944444443,
          5080.364722222222,
          5093.864722222222,
          5107.531388888889,
          5135.531388888888,
          5155.209166666666,
          5175.35361111111,
          5186.953611111109,
          5216.7313888888875,
          5237.8869444444435,
          5262.331388888888,
          5280.864722222222,
          5299.664722222221,
          5324.998055555555,
          5353.51861111111
         ],
         "xaxis": "x",
         "y": [
          289,
          292,
          293,
          296,
          298,
          300,
          301,
          303,
          303,
          305,
          306,
          306,
          308,
          309,
          309,
          310,
          311,
          312,
          312,
          313,
          313,
          313,
          312,
          314,
          314,
          314,
          315,
          314,
          260,
          244,
          203,
          168,
          148,
          122,
          102,
          99,
          94,
          90,
          86,
          81,
          77,
          73,
          71,
          68,
          72,
          73,
          80,
          89,
          106,
          122,
          140,
          150,
          163,
          170,
          179,
          189,
          199,
          207,
          218,
          223,
          225,
          232,
          234,
          238,
          244,
          250,
          258,
          259,
          263,
          269,
          271,
          276,
          278,
          283,
          286,
          290,
          291,
          293,
          295,
          296,
          298,
          300,
          302,
          287,
          240,
          214,
          183,
          175,
          157,
          148,
          143,
          136,
          130,
          127,
          122,
          118,
          117,
          121,
          127,
          132,
          143,
          151,
          167,
          182,
          189,
          197,
          202,
          212,
          214,
          224,
          226,
          234,
          242,
          247,
          250,
          238,
          224,
          222,
          216,
          207,
          207,
          210,
          219,
          227,
          231,
          233,
          237,
          241,
          245,
          251,
          252,
          255,
          242,
          206,
          171,
          135,
          125,
          109,
          102,
          96,
          92,
          88,
          84,
          80,
          76,
          78,
          80,
          83,
          90,
          93,
          105,
          120,
          130,
          146,
          157,
          160,
          177,
          185,
          194,
          200,
          209,
          214,
          227,
          234,
          236,
          238,
          241,
          245,
          250,
          252,
          242,
          207,
          192,
          176,
          146,
          124,
          113,
          101,
          91,
          87,
          81,
          78,
          76,
          79,
          87,
          92,
          99,
          105,
          114,
          129,
          139,
          155,
          174,
          191,
          198,
          209,
          216,
          219,
          228,
          233,
          241,
          248,
          252,
          264,
          269,
          273,
          279,
          281,
          285,
          289,
          293,
          293,
          296,
          298,
          299,
          301,
          304,
          303,
          280,
          255,
          222,
          207,
          194,
          184,
          174,
          169,
          162,
          158,
          160,
          165,
          170,
          178,
          194,
          199,
          208,
          211,
          221,
          224,
          230,
          235,
          235,
          241,
          246,
          249,
          251,
          252,
          253,
          255,
          255,
          256,
          259,
          259,
          261,
          262,
          261,
          263,
          264,
          264,
          265,
          231,
          197,
          183,
          164,
          159,
          151,
          147,
          143,
          137,
          136,
          142,
          146,
          155,
          159,
          180,
          185,
          202,
          211,
          219,
          226,
          231,
          235,
          240,
          246,
          255,
          256,
          260,
          264,
          266,
          268,
          270,
          272,
          274,
          277,
          277,
          280,
          282,
          284,
          284,
          285,
          286,
          286,
          286,
          268,
          238,
          202,
          167,
          156,
          144,
          135,
          135,
          127,
          130,
          135,
          137,
          145,
          166,
          177,
          184,
          191,
          200,
          205,
          213,
          218,
          221,
          227,
          232,
          234,
          239,
          243,
          246,
          252,
          253,
          259,
          261,
          268,
          272,
          275,
          278,
          282,
          285,
          286
         ],
         "yaxis": "y"
        },
        {
         "hovertemplate": "Driver=PER<br>Distance=%{x}<br>Speed=%{y}<extra></extra>",
         "legendgroup": "PER",
         "line": {
          "color": "#EF553B",
          "dash": "solid"
         },
         "marker": {
          "symbol": "circle"
         },
         "mode": "lines",
         "name": "PER",
         "orientation": "v",
         "showlegend": true,
         "type": "scatter",
         "x": [
          23.84444444444444,
          36.99999999999999,
          67,
          83.77777777777777,
          107.42222222222222,
          124.36666666666666,
          154.96666666666667,
          192.85555555555555,
          213.65555555555557,
          234.5222222222222,
          262.34611111111116,
          286.84611111111116,
          311.42388888888894,
          339.6897222222223,
          364.4230555555556,
          389.15638888888896,
          410.356388888889,
          424.5341666666668,
          456.53416666666675,
          470.80083333333346,
          495.76750000000015,
          510.0786111111113,
          524.3897222222224,
          538.7452777777779,
          560.2119444444446,
          588.3008333333336,
          604.0786111111114,
          617.9675000000003,
          627.8786111111114,
          649.7563888888892,
          660.0230555555559,
          673.0230555555559,
          683.7230555555558,
          692.1675000000002,
          701.5008333333336,
          708.5011111111114,
          714.256666666667,
          720.656666666667,
          727.2550000000003,
          731.532777777778,
          737.6772222222224,
          744.5216666666669,
          758.7883333333335,
          766.5883333333335,
          775.3883333333334,
          788.0105555555557,
          807.0772222222224,
          825.632777777778,
          839.3216666666669,
          849.5438888888891,
          858.032777777778,
          871.2327777777781,
          884.8994444444447,
          899.032777777778,
          921.132777777778,
          930.9994444444446,
          943.5550000000002,
          953.732777777778,
          964.0883333333336,
          985.4216666666671,
          998.7988888888892,
          1021.0211111111115,
          1043.9369444444449,
          1070.3369444444447,
          1082.1147222222226,
          1103.1147222222223,
          1136.970277777778,
          1168.1925,
          1180.8591666666669,
          1193.6147222222223,
          1206.4147222222223,
          1225.8813888888892,
          1252.0147222222226,
          1268.5147222222226,
          1288.3813888888892,
          1315.1369444444447,
          1335.336944444445,
          1348.8480555555561,
          1372.570277777778,
          1389.0147222222226,
          1403.848055555556,
          1414.4702777777782,
          1428.8036111111114,
          1446.6036111111114,
          1457.6702777777782,
          1469.3369444444447,
          1477.2258333333336,
          1493.0786111111115,
          1502.6794444444447,
          1513.1683333333335,
          1518.323888888889,
          1523.5238888888891,
          1530.1350000000002,
          1541.3350000000003,
          1547.0238888888891,
          1559.3794444444447,
          1572.801666666667,
          1591.4683333333335,
          1599.1572222222223,
          1609.2127777777778,
          1626.4572222222223,
          1649.3461111111112,
          1665.835,
          1687.8350000000003,
          1697.9683333333337,
          1721.3683333333336,
          1731.9016666666669,
          1747.9683333333335,
          1769.8350000000003,
          1792.0572222222224,
          1813.4794444444447,
          1835.8172222222224,
          1861.2972222222227,
          1872.7972222222227,
          1884.1861111111116,
          1900.5972222222229,
          1917.3972222222228,
          1929.6750000000009,
          1947.3305555555564,
          1965.2194444444453,
          1980.619444444445,
          1996.2861111111117,
          2009.4527777777785,
          2020.0750000000005,
          2044.3750000000005,
          2063.819444444445,
          2077.708333333334,
          2094.641666666667,
          2108.8638888888895,
          2126.519444444445,
          2137.9083333333338,
          2150.1750000000006,
          2165.2750000000005,
          2172.886111111112,
          2179.941666666667,
          2188.8861111111114,
          2199.1575000000003,
          2206.572777777778,
          2213.4950000000003,
          2222.195,
          2229.0394444444446,
          2232.5061111111113,
          2237.972777777778,
          2243.6394444444445,
          2248.6394444444445,
          2253.9172222222223,
          2261.8505555555557,
          2274.3505555555557,
          2286.795,
          2295.183888888889,
          2305.583888888889,
          2318.7283333333335,
          2330.795,
          2348.1283333333336,
          2365.7283333333335,
          2377.2838888888887,
          2386.661666666667,
          2406.3061111111115,
          2429.1061111111117,
          2439.4172222222223,
          2457.695,
          2473.6283333333336,
          2484.3608333333336,
          2514.9858333333336,
          2546.030277777778,
          2574.474722222222,
          2588.2525,
          2597.8080555555553,
          2608.7525,
          2616.7969444444448,
          2630.841388888889,
          2638.841388888889,
          2646.230277777778,
          2653.008055555556,
          2660.5413888888893,
          2666.2636111111115,
          2671.6525,
          2675.741388888889,
          2680.630277777778,
          2685.3525,
          2690.0191666666665,
          2696.085833333333,
          2704.185833333333,
          2711.8302777777776,
          2720.630277777778,
          2725.208055555556,
          2734.4636111111113,
          2743.130277777778,
          2750.9080555555556,
          2768.6858333333334,
          2782.2191666666668,
          2803.441388888889,
          2826.1080555555554,
          2850.330277777778,
          2900.9969444444446,
          2917.330277777778,
          2931.2747222222224,
          2945.4413888888894,
          2965.7413888888896,
          2983.341388888889,
          3007.519166666667,
          3028.908055555556,
          3044.352500000001,
          3056.796944444445,
          3072.6302777777787,
          3085.385833333334,
          3111.252500000001,
          3130.7858333333343,
          3147.1747222222234,
          3160.374722222223,
          3173.6191666666678,
          3197.0302777777783,
          3213.863611111112,
          3234.1969444444453,
          3247.796944444445,
          3261.4858333333345,
          3282.085833333335,
          3299.030277777779,
          3314.64138888889,
          3333.54138888889,
          3345.874722222223,
          3364.2747222222233,
          3382.2747222222233,
          3390.14138888889,
          3408.8080555555566,
          3416.1413888888897,
          3430.0969444444454,
          3447.7636111111124,
          3456.8191666666676,
          3475.9302777777784,
          3483.84138888889,
          3494.174722222223,
          3509.3413888888895,
          3520.5080555555564,
          3531.785833333334,
          3548.0413888888893,
          3557.5525000000007,
          3584.685833333334,
          3599.885833333334,
          3610.1272222222233,
          3625.662222222223,
          3652.440000000001,
          3674.1288888888903,
          3690.5955555555565,
          3712.995555555556,
          3735.5733333333346,
          3749.684444444446,
          3769.673333333335,
          3786.873333333335,
          3798.3844444444458,
          3812.773333333335,
          3835.9733333333356,
          3856.42888888889,
          3879.895555555557,
          3897.5622222222237,
          3921.2955555555577,
          3954.051111111113,
          3981.7955555555577,
          3991.040000000002,
          4005.5066666666685,
          4022.6066666666684,
          4035.1288888888907,
          4043.8388888888912,
          4057.130555555558,
          4068.25277777778,
          4076.030555555558,
          4085.230555555558,
          4093.0083333333355,
          4102.7416666666695,
          4112.808333333336,
          4129.008333333336,
          4152.34166666667,
          4162.8972222222255,
          4177.986111111114,
          4196.386111111114,
          4212.875000000003,
          4230.063888888892,
          4250.4194444444465,
          4274.019444444447,
          4287.408333333336,
          4306.619444444446,
          4337.786111111112,
          4355.05277777778,
          4384.2750000000015,
          4399.05277777778,
          4429.12777777778,
          4441.18527777778,
          4478.118611111114,
          4496.718611111113,
          4515.5186111111125,
          4531.296388888891,
          4556.718611111113,
          4575.851944444446,
          4598.3297222222245,
          4627.429722222225,
          4653.38527777778,
          4676.174166666669,
          4705.47416666667,
          4738.251944444448,
          4757.585277777781,
          4772.085277777781,
          4798.751944444448,
          4809.251944444448,
          4822.785277777782,
          4834.685277777781,
          4847.485277777781,
          4853.618611111115,
          4865.2994444444475,
          4876.766111111115,
          4891.174444444448,
          4900.374444444448,
          4909.841111111115,
          4927.28555555556,
          4944.58555555556,
          4963.08555555556,
          4973.752222222227,
          4989.463333333338,
          5013.018888888893,
          5022.6633333333375,
          5032.441111111115,
          5055.441111111115,
          5081.552222222226,
          5097.618888888893,
          5119.48555555556,
          5139.007777777781,
          5153.063333333336,
          5179.063333333336,
          5190.752222222226,
          5208.485555555559,
          5229.485555555559,
          5244.783888888892,
          5263.250555555559,
          5281.917222222225,
          5300.77166666667,
          5326.37166666667,
          5339.216111111114,
          5352.105000000003
         ],
         "xaxis": "x",
         "y": [
          296,
          296,
          300,
          302,
          304,
          305,
          306,
          310,
          312,
          313,
          314,
          315,
          316,
          317,
          318,
          318,
          318,
          319,
          320,
          321,
          321,
          322,
          322,
          323,
          322,
          316,
          284,
          250,
          223,
          179,
          154,
          130,
          107,
          95,
          84,
          79,
          74,
          72,
          74,
          77,
          79,
          88,
          107,
          117,
          132,
          142,
          156,
          167,
          176,
          184,
          191,
          198,
          205,
          212,
          221,
          222,
          226,
          229,
          233,
          240,
          242,
          250,
          257,
          264,
          265,
          270,
          277,
          281,
          285,
          287,
          288,
          292,
          294,
          297,
          298,
          301,
          303,
          304,
          305,
          296,
          267,
          239,
          215,
          178,
          166,
          150,
          142,
          130,
          123,
          118,
          116,
          117,
          119,
          126,
          128,
          139,
          151,
          168,
          173,
          181,
          194,
          206,
          212,
          220,
          228,
          234,
          237,
          241,
          246,
          250,
          241,
          224,
          208,
          207,
          205,
          211,
          216,
          221,
          227,
          230,
          231,
          235,
          237,
          239,
          243,
          250,
          250,
          254,
          256,
          227,
          205,
          184,
          151,
          137,
          127,
          115,
          103,
          95,
          89,
          87,
          77,
          78,
          82,
          85,
          90,
          95,
          102,
          125,
          140,
          151,
          156,
          169,
          181,
          195,
          198,
          208,
          211,
          221,
          228,
          232,
          235,
          239,
          243,
          250,
          254,
          256,
          248,
          215,
          197,
          181,
          158,
          144,
          133,
          122,
          113,
          103,
          97,
          92,
          88,
          85,
          84,
          78,
          81,
          86,
          99,
          103,
          119,
          130,
          140,
          160,
          174,
          191,
          204,
          218,
          240,
          245,
          251,
          255,
          261,
          264,
          272,
          275,
          278,
          280,
          285,
          287,
          291,
          293,
          295,
          297,
          298,
          301,
          303,
          305,
          306,
          308,
          309,
          305,
          281,
          243,
          222,
          207,
          180,
          177,
          168,
          165,
          157,
          159,
          163,
          172,
          178,
          186,
          195,
          201,
          203,
          209,
          214,
          222,
          228,
          229,
          234,
          241,
          244,
          247,
          252,
          254,
          254,
          257,
          258,
          259,
          259,
          261,
          263,
          264,
          265,
          267,
          268,
          227,
          208,
          186,
          171,
          161,
          156,
          150,
          143,
          140,
          138,
          140,
          146,
          151,
          162,
          175,
          190,
          194,
          207,
          212,
          221,
          229,
          236,
          241,
          247,
          255,
          259,
          263,
          266,
          270,
          273,
          277,
          279,
          282,
          284,
          286,
          287,
          289,
          291,
          292,
          293,
          293,
          295,
          290,
          261,
          200,
          189,
          174,
          153,
          144,
          138,
          131,
          129,
          130,
          138,
          142,
          157,
          173,
          185,
          192,
          202,
          212,
          217,
          220,
          230,
          235,
          241,
          246,
          251,
          253,
          260,
          263,
          266,
          270,
          274,
          277,
          280,
          284,
          288,
          289,
          290
         ],
         "yaxis": "y"
        }
       ],
       "layout": {
        "legend": {
         "title": {
          "text": "Driver"
         },
         "tracegroupgap": 0
        },
        "margin": {
         "t": 60
        },
        "template": {
         "data": {
          "bar": [
           {
            "error_x": {
             "color": "#2a3f5f"
            },
            "error_y": {
             "color": "#2a3f5f"
            },
            "marker": {
             "line": {
              "color": "#E5ECF6",
              "width": 0.5
             },
             "pattern": {
              "fillmode": "overlay",
              "size": 10,
              "solidity": 0.2
             }
            },
            "type": "bar"
           }
          ],
          "barpolar": [
           {
            "marker": {
             "line": {
              "color": "#E5ECF6",
              "width": 0.5
             },
             "pattern": {
              "fillmode": "overlay",
              "size": 10,
              "solidity": 0.2
             }
            },
            "type": "barpolar"
           }
          ],
          "carpet": [
           {
            "aaxis": {
             "endlinecolor": "#2a3f5f",
             "gridcolor": "white",
             "linecolor": "white",
             "minorgridcolor": "white",
             "startlinecolor": "#2a3f5f"
            },
            "baxis": {
             "endlinecolor": "#2a3f5f",
             "gridcolor": "white",
             "linecolor": "white",
             "minorgridcolor": "white",
             "startlinecolor": "#2a3f5f"
            },
            "type": "carpet"
           }
          ],
          "choropleth": [
           {
            "colorbar": {
             "outlinewidth": 0,
             "ticks": ""
            },
            "type": "choropleth"
           }
          ],
          "contour": [
           {
            "colorbar": {
             "outlinewidth": 0,
             "ticks": ""
            },
            "colorscale": [
             [
              0,
              "#0d0887"
             ],
             [
              0.1111111111111111,
              "#46039f"
             ],
             [
              0.2222222222222222,
              "#7201a8"
             ],
             [
              0.3333333333333333,
              "#9c179e"
             ],
             [
              0.4444444444444444,
              "#bd3786"
             ],
             [
              0.5555555555555556,
              "#d8576b"
             ],
             [
              0.6666666666666666,
              "#ed7953"
             ],
             [
              0.7777777777777778,
              "#fb9f3a"
             ],
             [
              0.8888888888888888,
              "#fdca26"
             ],
             [
              1,
              "#f0f921"
             ]
            ],
            "type": "contour"
           }
          ],
          "contourcarpet": [
           {
            "colorbar": {
             "outlinewidth": 0,
             "ticks": ""
            },
            "type": "contourcarpet"
           }
          ],
          "heatmap": [
           {
            "colorbar": {
             "outlinewidth": 0,
             "ticks": ""
            },
            "colorscale": [
             [
              0,
              "#0d0887"
             ],
             [
              0.1111111111111111,
              "#46039f"
             ],
             [
              0.2222222222222222,
              "#7201a8"
             ],
             [
              0.3333333333333333,
              "#9c179e"
             ],
             [
              0.4444444444444444,
              "#bd3786"
             ],
             [
              0.5555555555555556,
              "#d8576b"
             ],
             [
              0.6666666666666666,
              "#ed7953"
             ],
             [
              0.7777777777777778,
              "#fb9f3a"
             ],
             [
              0.8888888888888888,
              "#fdca26"
             ],
             [
              1,
              "#f0f921"
             ]
            ],
            "type": "heatmap"
           }
          ],
          "heatmapgl": [
           {
            "colorbar": {
             "outlinewidth": 0,
             "ticks": ""
            },
            "colorscale": [
             [
              0,
              "#0d0887"
             ],
             [
              0.1111111111111111,
              "#46039f"
             ],
             [
              0.2222222222222222,
              "#7201a8"
             ],
             [
              0.3333333333333333,
              "#9c179e"
             ],
             [
              0.4444444444444444,
              "#bd3786"
             ],
             [
              0.5555555555555556,
              "#d8576b"
             ],
             [
              0.6666666666666666,
              "#ed7953"
             ],
             [
              0.7777777777777778,
              "#fb9f3a"
             ],
             [
              0.8888888888888888,
              "#fdca26"
             ],
             [
              1,
              "#f0f921"
             ]
            ],
            "type": "heatmapgl"
           }
          ],
          "histogram": [
           {
            "marker": {
             "pattern": {
              "fillmode": "overlay",
              "size": 10,
              "solidity": 0.2
             }
            },
            "type": "histogram"
           }
          ],
          "histogram2d": [
           {
            "colorbar": {
             "outlinewidth": 0,
             "ticks": ""
            },
            "colorscale": [
             [
              0,
              "#0d0887"
             ],
             [
              0.1111111111111111,
              "#46039f"
             ],
             [
              0.2222222222222222,
              "#7201a8"
             ],
             [
              0.3333333333333333,
              "#9c179e"
             ],
             [
              0.4444444444444444,
              "#bd3786"
             ],
             [
              0.5555555555555556,
              "#d8576b"
             ],
             [
              0.6666666666666666,
              "#ed7953"
             ],
             [
              0.7777777777777778,
              "#fb9f3a"
             ],
             [
              0.8888888888888888,
              "#fdca26"
             ],
             [
              1,
              "#f0f921"
             ]
            ],
            "type": "histogram2d"
           }
          ],
          "histogram2dcontour": [
           {
            "colorbar": {
             "outlinewidth": 0,
             "ticks": ""
            },
            "colorscale": [
             [
              0,
              "#0d0887"
             ],
             [
              0.1111111111111111,
              "#46039f"
             ],
             [
              0.2222222222222222,
              "#7201a8"
             ],
             [
              0.3333333333333333,
              "#9c179e"
             ],
             [
              0.4444444444444444,
              "#bd3786"
             ],
             [
              0.5555555555555556,
              "#d8576b"
             ],
             [
              0.6666666666666666,
              "#ed7953"
             ],
             [
              0.7777777777777778,
              "#fb9f3a"
             ],
             [
              0.8888888888888888,
              "#fdca26"
             ],
             [
              1,
              "#f0f921"
             ]
            ],
            "type": "histogram2dcontour"
           }
          ],
          "mesh3d": [
           {
            "colorbar": {
             "outlinewidth": 0,
             "ticks": ""
            },
            "type": "mesh3d"
           }
          ],
          "parcoords": [
           {
            "line": {
             "colorbar": {
              "outlinewidth": 0,
              "ticks": ""
             }
            },
            "type": "parcoords"
           }
          ],
          "pie": [
           {
            "automargin": true,
            "type": "pie"
           }
          ],
          "scatter": [
           {
            "marker": {
             "colorbar": {
              "outlinewidth": 0,
              "ticks": ""
             }
            },
            "type": "scatter"
           }
          ],
          "scatter3d": [
           {
            "line": {
             "colorbar": {
              "outlinewidth": 0,
              "ticks": ""
             }
            },
            "marker": {
             "colorbar": {
              "outlinewidth": 0,
              "ticks": ""
             }
            },
            "type": "scatter3d"
           }
          ],
          "scattercarpet": [
           {
            "marker": {
             "colorbar": {
              "outlinewidth": 0,
              "ticks": ""
             }
            },
            "type": "scattercarpet"
           }
          ],
          "scattergeo": [
           {
            "marker": {
             "colorbar": {
              "outlinewidth": 0,
              "ticks": ""
             }
            },
            "type": "scattergeo"
           }
          ],
          "scattergl": [
           {
            "marker": {
             "colorbar": {
              "outlinewidth": 0,
              "ticks": ""
             }
            },
            "type": "scattergl"
           }
          ],
          "scattermapbox": [
           {
            "marker": {
             "colorbar": {
              "outlinewidth": 0,
              "ticks": ""
             }
            },
            "type": "scattermapbox"
           }
          ],
          "scatterpolar": [
           {
            "marker": {
             "colorbar": {
              "outlinewidth": 0,
              "ticks": ""
             }
            },
            "type": "scatterpolar"
           }
          ],
          "scatterpolargl": [
           {
            "marker": {
             "colorbar": {
              "outlinewidth": 0,
              "ticks": ""
             }
            },
            "type": "scatterpolargl"
           }
          ],
          "scatterternary": [
           {
            "marker": {
             "colorbar": {
              "outlinewidth": 0,
              "ticks": ""
             }
            },
            "type": "scatterternary"
           }
          ],
          "surface": [
           {
            "colorbar": {
             "outlinewidth": 0,
             "ticks": ""
            },
            "colorscale": [
             [
              0,
              "#0d0887"
             ],
             [
              0.1111111111111111,
              "#46039f"
             ],
             [
              0.2222222222222222,
              "#7201a8"
             ],
             [
              0.3333333333333333,
              "#9c179e"
             ],
             [
              0.4444444444444444,
              "#bd3786"
             ],
             [
              0.5555555555555556,
              "#d8576b"
             ],
             [
              0.6666666666666666,
              "#ed7953"
             ],
             [
              0.7777777777777778,
              "#fb9f3a"
             ],
             [
              0.8888888888888888,
              "#fdca26"
             ],
             [
              1,
              "#f0f921"
             ]
            ],
            "type": "surface"
           }
          ],
          "table": [
           {
            "cells": {
             "fill": {
              "color": "#EBF0F8"
             },
             "line": {
              "color": "white"
             }
            },
            "header": {
             "fill": {
              "color": "#C8D4E3"
             },
             "line": {
              "color": "white"
             }
            },
            "type": "table"
           }
          ]
         },
         "layout": {
          "annotationdefaults": {
           "arrowcolor": "#2a3f5f",
           "arrowhead": 0,
           "arrowwidth": 1
          },
          "autotypenumbers": "strict",
          "coloraxis": {
           "colorbar": {
            "outlinewidth": 0,
            "ticks": ""
           }
          },
          "colorscale": {
           "diverging": [
            [
             0,
             "#8e0152"
            ],
            [
             0.1,
             "#c51b7d"
            ],
            [
             0.2,
             "#de77ae"
            ],
            [
             0.3,
             "#f1b6da"
            ],
            [
             0.4,
             "#fde0ef"
            ],
            [
             0.5,
             "#f7f7f7"
            ],
            [
             0.6,
             "#e6f5d0"
            ],
            [
             0.7,
             "#b8e186"
            ],
            [
             0.8,
             "#7fbc41"
            ],
            [
             0.9,
             "#4d9221"
            ],
            [
             1,
             "#276419"
            ]
           ],
           "sequential": [
            [
             0,
             "#0d0887"
            ],
            [
             0.1111111111111111,
             "#46039f"
            ],
            [
             0.2222222222222222,
             "#7201a8"
            ],
            [
             0.3333333333333333,
             "#9c179e"
            ],
            [
             0.4444444444444444,
             "#bd3786"
            ],
            [
             0.5555555555555556,
             "#d8576b"
            ],
            [
             0.6666666666666666,
             "#ed7953"
            ],
            [
             0.7777777777777778,
             "#fb9f3a"
            ],
            [
             0.8888888888888888,
             "#fdca26"
            ],
            [
             1,
             "#f0f921"
            ]
           ],
           "sequentialminus": [
            [
             0,
             "#0d0887"
            ],
            [
             0.1111111111111111,
             "#46039f"
            ],
            [
             0.2222222222222222,
             "#7201a8"
            ],
            [
             0.3333333333333333,
             "#9c179e"
            ],
            [
             0.4444444444444444,
             "#bd3786"
            ],
            [
             0.5555555555555556,
             "#d8576b"
            ],
            [
             0.6666666666666666,
             "#ed7953"
            ],
            [
             0.7777777777777778,
             "#fb9f3a"
            ],
            [
             0.8888888888888888,
             "#fdca26"
            ],
            [
             1,
             "#f0f921"
            ]
           ]
          },
          "colorway": [
           "#636efa",
           "#EF553B",
           "#00cc96",
           "#ab63fa",
           "#FFA15A",
           "#19d3f3",
           "#FF6692",
           "#B6E880",
           "#FF97FF",
           "#FECB52"
          ],
          "font": {
           "color": "#2a3f5f"
          },
          "geo": {
           "bgcolor": "white",
           "lakecolor": "white",
           "landcolor": "#E5ECF6",
           "showlakes": true,
           "showland": true,
           "subunitcolor": "white"
          },
          "hoverlabel": {
           "align": "left"
          },
          "hovermode": "closest",
          "mapbox": {
           "style": "light"
          },
          "paper_bgcolor": "white",
          "plot_bgcolor": "#E5ECF6",
          "polar": {
           "angularaxis": {
            "gridcolor": "white",
            "linecolor": "white",
            "ticks": ""
           },
           "bgcolor": "#E5ECF6",
           "radialaxis": {
            "gridcolor": "white",
            "linecolor": "white",
            "ticks": ""
           }
          },
          "scene": {
           "xaxis": {
            "backgroundcolor": "#E5ECF6",
            "gridcolor": "white",
            "gridwidth": 2,
            "linecolor": "white",
            "showbackground": true,
            "ticks": "",
            "zerolinecolor": "white"
           },
           "yaxis": {
            "backgroundcolor": "#E5ECF6",
            "gridcolor": "white",
            "gridwidth": 2,
            "linecolor": "white",
            "showbackground": true,
            "ticks": "",
            "zerolinecolor": "white"
           },
           "zaxis": {
            "backgroundcolor": "#E5ECF6",
            "gridcolor": "white",
            "gridwidth": 2,
            "linecolor": "white",
            "showbackground": true,
            "ticks": "",
            "zerolinecolor": "white"
           }
          },
          "shapedefaults": {
           "line": {
            "color": "#2a3f5f"
           }
          },
          "ternary": {
           "aaxis": {
            "gridcolor": "white",
            "linecolor": "white",
            "ticks": ""
           },
           "baxis": {
            "gridcolor": "white",
            "linecolor": "white",
            "ticks": ""
           },
           "bgcolor": "#E5ECF6",
           "caxis": {
            "gridcolor": "white",
            "linecolor": "white",
            "ticks": ""
           }
          },
          "title": {
           "x": 0.05
          },
          "xaxis": {
           "automargin": true,
           "gridcolor": "white",
           "linecolor": "white",
           "ticks": "",
           "title": {
            "standoff": 15
           },
           "zerolinecolor": "white",
           "zerolinewidth": 2
          },
          "yaxis": {
           "automargin": true,
           "gridcolor": "white",
           "linecolor": "white",
           "ticks": "",
           "title": {
            "standoff": 15
           },
           "zerolinecolor": "white",
           "zerolinewidth": 2
          }
         }
        },
        "xaxis": {
         "anchor": "y",
         "domain": [
          0,
          1
         ],
         "title": {
          "text": "Distance"
         }
        },
        "yaxis": {
         "anchor": "x",
         "domain": [
          0,
          1
         ],
         "title": {
          "text": "Speed"
         }
        }
       }
      }
     },
     "metadata": {},
     "output_type": "display_data"
    }
   ],
   "source": [
    "import plotly.express as px\n",
    "\n",
    "fig = px.line(telemetry, \"Distance\", \"Speed\", color=\"Driver\")\n",
    "fig.show()"
   ]
  },
  {
   "cell_type": "code",
   "execution_count": 27,
   "metadata": {},
   "outputs": [
    {
     "data": {
      "application/vnd.plotly.v1+json": {
       "config": {
        "plotlyServerURL": "https://plot.ly"
       },
       "data": [
        {
         "hovertemplate": "Driver=RUS<br>Time=%{x}<br>Throttle=%{y}<extra></extra>",
         "legendgroup": "RUS",
         "line": {
          "color": "#636efa",
          "dash": "solid"
         },
         "marker": {
          "symbol": "circle"
         },
         "mode": "lines",
         "name": "RUS",
         "orientation": "v",
         "showlegend": true,
         "type": "scatter",
         "x": [
          4000000,
          284000000,
          484000000,
          924000000,
          1204000000,
          1444000000,
          1804000000,
          2124000000,
          2284000000,
          2444000000,
          2644000000,
          2884000000,
          3164000000,
          3324000000,
          3604000000,
          3924000000,
          4283000000,
          4443000000,
          4603000000,
          4883000000,
          5203000000,
          5443000000,
          5684000000,
          5964000000,
          6164000000,
          6444000000,
          6684000000,
          6924000000,
          7284000000,
          7524000000,
          7724000000,
          7964000000,
          8204000000,
          8524000000,
          8844000000,
          9044000000,
          9204000000,
          9364000000,
          9604000000,
          9844000000,
          10044000000,
          10324000000,
          10524000000,
          10763000000,
          10963000000,
          11203000000,
          11363000000,
          11723000000,
          12123000000,
          12404000000,
          12804000000,
          13124000000,
          13484000000,
          13644000000,
          14004000000,
          14324000000,
          14604000000,
          14924000000,
          15244000000,
          15444000000,
          15604000000,
          15964000000,
          16124000000,
          16404000000,
          16564000000,
          16924000000,
          17244000000,
          17404000000,
          17603000000,
          18003000000,
          18203000000,
          18483000000,
          18683000000,
          19084000000,
          19404000000,
          19644000000,
          19804000000,
          20044000000,
          20324000000,
          20564000000,
          20764000000,
          21084000000,
          21324000000,
          21644000000,
          21964000000,
          22204000000,
          22444000000,
          22684000000,
          22844000000,
          23044000000,
          23204000000,
          23404000000,
          23604000000,
          23804000000,
          24004000000,
          24243000000,
          24403000000,
          24683000000,
          25003000000,
          25203000000,
          25484000000,
          25724000000,
          26084000000,
          26444000000,
          26684000000,
          26884000000,
          27084000000,
          27364000000,
          27524000000,
          27844000000,
          28084000000,
          28404000000,
          28924000000,
          29324000000,
          29604000000,
          29884000000,
          30164000000,
          30324000000,
          30524000000,
          30843000000,
          31163000000,
          31483000000,
          31803000000,
          32204000000,
          32444000000,
          32644000000,
          32964000000,
          33244000000,
          33644000000,
          33884000000,
          34164000000,
          34404000000,
          34724000000,
          35004000000,
          35244000000,
          35764000000,
          35924000000,
          36324000000,
          36524000000,
          36724000000,
          36924000000,
          37084000000,
          37284000000,
          37484000000,
          37763000000,
          37963000000,
          38123000000,
          38323000000,
          38563000000,
          38724000000,
          39124000000,
          39524000000,
          39724000000,
          39964000000,
          40204000000,
          40404000000,
          40684000000,
          40884000000,
          41164000000,
          41364000000,
          41644000000,
          41924000000,
          42444000000,
          42844000000,
          43004000000,
          43204000000,
          43404000000,
          43724000000,
          44084000000,
          44403000000,
          44723000000,
          45123000000,
          45284000000,
          45524000000,
          45844000000,
          46164000000,
          46404000000,
          46644000000,
          46964000000,
          47204000000,
          47564000000,
          47884000000,
          48124000000,
          48364000000,
          48644000000,
          48884000000,
          49084000000,
          49284000000,
          49444000000,
          49804000000,
          50004000000,
          50324000000,
          50684000000,
          51043000000,
          51283000000,
          51563000000,
          51764000000,
          51924000000,
          52164000000,
          52404000000,
          52684000000,
          53084000000,
          53364000000,
          53804000000,
          54044000000,
          54364000000,
          54764000000,
          55004000000,
          55404000000,
          55684000000,
          56044000000,
          56204000000,
          56404000000,
          56644000000,
          56884000000,
          57124000000,
          57484000000,
          57723000000,
          57883000000,
          58043000000,
          58364000000,
          58564000000,
          58804000000,
          59004000000,
          59204000000,
          59404000000,
          59644000000,
          60044000000,
          60204000000,
          60444000000,
          60644000000,
          61004000000,
          61484000000,
          61684000000,
          62004000000,
          62284000000,
          62644000000,
          62924000000,
          63164000000,
          63484000000,
          63724000000,
          63964000000,
          64284000000,
          64563000000,
          64843000000,
          65124000000,
          65324000000,
          65564000000,
          65804000000,
          65964000000,
          66284000000,
          66484000000,
          66644000000,
          66964000000,
          67164000000,
          67404000000,
          67604000000,
          67884000000,
          68204000000,
          68564000000,
          68964000000,
          69204000000,
          69604000000,
          69804000000,
          70044000000,
          70324000000,
          70484000000,
          70764000000,
          70964000000,
          71283000000,
          71443000000,
          71804000000,
          72124000000,
          72524000000,
          72724000000,
          73164000000,
          73444000000,
          73764000000,
          74084000000,
          74324000000,
          74484000000,
          74804000000,
          75204000000,
          75644000000,
          75804000000,
          76164000000,
          76444000000,
          76684000000,
          76844000000,
          77124000000,
          77284000000,
          77564000000,
          77843000000,
          78124000000,
          78524000000,
          78964000000,
          79364000000,
          79684000000,
          80004000000,
          80444000000,
          80764000000,
          80924000000,
          81204000000,
          81364000000,
          81644000000,
          82084000000,
          82324000000,
          82724000000,
          83044000000,
          83204000000,
          83444000000,
          83764000000,
          83964000000,
          84124000000,
          84324000000,
          84804000000,
          85084000000,
          85284000000,
          85524000000,
          85764000000,
          86004000000,
          86244000000,
          86444000000,
          86604000000,
          86884000000,
          87044000000,
          87244000000,
          87444000000,
          87644000000,
          87844000000,
          88244000000,
          88524000000,
          88804000000,
          88964000000,
          89364000000,
          89644000000,
          89964000000,
          90204000000,
          90444000000,
          90764000000,
          91123000000
         ],
         "xaxis": "x",
         "y": [
          100,
          100,
          100,
          100,
          100,
          100,
          100,
          100,
          100,
          100,
          100,
          100,
          100,
          100,
          100,
          100,
          100,
          100,
          100,
          100,
          100,
          100,
          100,
          100,
          100,
          100,
          100,
          100,
          0,
          0,
          0,
          0,
          0,
          0,
          0,
          0,
          0,
          0,
          0,
          0,
          0,
          0,
          0,
          18,
          27,
          40,
          44,
          58,
          78,
          85,
          84,
          84,
          86,
          90,
          100,
          100,
          100,
          100,
          100,
          100,
          100,
          100,
          100,
          100,
          100,
          100,
          100,
          100,
          100,
          100,
          100,
          100,
          100,
          100,
          100,
          100,
          100,
          100,
          100,
          100,
          100,
          100,
          100,
          100,
          0,
          0,
          0,
          0,
          0,
          0,
          0,
          0,
          0,
          0,
          0,
          0,
          39,
          51,
          63,
          74,
          80,
          88,
          100,
          100,
          100,
          100,
          100,
          100,
          100,
          100,
          100,
          100,
          100,
          100,
          78,
          42,
          40,
          41,
          42,
          58,
          73,
          86,
          100,
          100,
          100,
          100,
          100,
          100,
          100,
          100,
          100,
          100,
          0,
          0,
          0,
          0,
          0,
          0,
          0,
          0,
          0,
          0,
          0,
          0,
          15,
          29,
          37,
          42,
          51,
          57,
          65,
          82,
          100,
          100,
          100,
          100,
          100,
          100,
          100,
          100,
          100,
          100,
          100,
          100,
          100,
          100,
          100,
          100,
          100,
          100,
          0,
          0,
          0,
          0,
          0,
          0,
          0,
          0,
          0,
          0,
          0,
          0,
          30,
          35,
          45,
          51,
          61,
          63,
          76,
          88,
          94,
          100,
          100,
          100,
          100,
          100,
          100,
          100,
          100,
          100,
          100,
          100,
          100,
          100,
          100,
          100,
          100,
          100,
          100,
          100,
          100,
          100,
          100,
          100,
          100,
          100,
          100,
          72,
          9,
          0,
          0,
          0,
          0,
          0,
          0,
          0,
          0,
          52,
          71,
          78,
          83,
          99,
          100,
          100,
          100,
          100,
          100,
          100,
          100,
          100,
          100,
          100,
          100,
          100,
          100,
          100,
          100,
          100,
          100,
          100,
          100,
          100,
          100,
          100,
          100,
          100,
          100,
          100,
          100,
          0,
          0,
          0,
          0,
          0,
          0,
          0,
          0,
          7,
          48,
          65,
          67,
          69,
          99,
          100,
          100,
          100,
          100,
          100,
          100,
          100,
          100,
          100,
          100,
          100,
          100,
          100,
          100,
          100,
          100,
          100,
          100,
          100,
          100,
          100,
          100,
          100,
          100,
          100,
          100,
          100,
          100,
          100,
          0,
          0,
          0,
          0,
          0,
          0,
          0,
          0,
          7,
          61,
          71,
          78,
          98,
          100,
          100,
          100,
          100,
          100,
          100,
          100,
          100,
          100,
          100,
          100,
          100,
          100,
          100,
          100,
          100,
          100,
          100,
          100,
          100,
          100,
          100,
          100,
          100,
          100,
          100
         ],
         "yaxis": "y"
        },
        {
         "hovertemplate": "Driver=PER<br>Time=%{x}<br>Throttle=%{y}<extra></extra>",
         "legendgroup": "PER",
         "line": {
          "color": "#EF553B",
          "dash": "solid"
         },
         "marker": {
          "symbol": "circle"
         },
         "mode": "lines",
         "name": "PER",
         "orientation": "v",
         "showlegend": true,
         "type": "scatter",
         "x": [
          290000000,
          450000000,
          810000000,
          1010000000,
          1290000000,
          1490000000,
          1850000000,
          2290000000,
          2530000000,
          2770000000,
          3089000000,
          3369000000,
          3649000000,
          3970000000,
          4250000000,
          4530000000,
          4770000000,
          4930000000,
          5290000000,
          5450000000,
          5730000000,
          5890000000,
          6050000000,
          6210000000,
          6450000000,
          6770000000,
          6970000000,
          7170000000,
          7330000000,
          7770000000,
          8010000000,
          8370000000,
          8730000000,
          9050000000,
          9450000000,
          9769000000,
          10049000000,
          10369000000,
          10690000000,
          10890000000,
          11170000000,
          11450000000,
          11930000000,
          12170000000,
          12410000000,
          12730000000,
          13170000000,
          13570000000,
          13850000000,
          14050000000,
          14210000000,
          14450000000,
          14690000000,
          14930000000,
          15290000000,
          15450000000,
          15650000000,
          15810000000,
          15970000000,
          16290000000,
          16489000000,
          16809000000,
          17130000000,
          17490000000,
          17650000000,
          17930000000,
          18370000000,
          18770000000,
          18930000000,
          19090000000,
          19250000000,
          19490000000,
          19810000000,
          20010000000,
          20250000000,
          20570000000,
          20810000000,
          20970000000,
          21250000000,
          21450000000,
          21650000000,
          21810000000,
          22050000000,
          22410000000,
          22650000000,
          22930000000,
          23130000000,
          23569000000,
          23850000000,
          24170000000,
          24330000000,
          24490000000,
          24690000000,
          25010000000,
          25170000000,
          25490000000,
          25810000000,
          26210000000,
          26370000000,
          26570000000,
          26890000000,
          27290000000,
          27570000000,
          27930000000,
          28090000000,
          28450000000,
          28610000000,
          28850000000,
          29170000000,
          29490000000,
          29810000000,
          30169000000,
          30610000000,
          30810000000,
          31010000000,
          31290000000,
          31570000000,
          31770000000,
          32050000000,
          32330000000,
          32570000000,
          32810000000,
          33010000000,
          33170000000,
          33530000000,
          33810000000,
          34010000000,
          34250000000,
          34450000000,
          34730000000,
          34930000000,
          35170000000,
          35530000000,
          35730000000,
          35930000000,
          36210000000,
          36569000000,
          36850000000,
          37130000000,
          37490000000,
          37810000000,
          37970000000,
          38210000000,
          38450000000,
          38650000000,
          38850000000,
          39130000000,
          39490000000,
          39810000000,
          40010000000,
          40250000000,
          40530000000,
          40770000000,
          41090000000,
          41410000000,
          41610000000,
          41770000000,
          42090000000,
          42450000000,
          42610000000,
          42890000000,
          43130000000,
          43289000000,
          43730000000,
          44170000000,
          44570000000,
          44770000000,
          44930000000,
          45130000000,
          45290000000,
          45610000000,
          45810000000,
          46010000000,
          46210000000,
          46450000000,
          46650000000,
          46850000000,
          47010000000,
          47210000000,
          47410000000,
          47610000000,
          47890000000,
          48250000000,
          48570000000,
          48890000000,
          49050000000,
          49330000000,
          49570000000,
          49770000000,
          50170000000,
          50450000000,
          50850000000,
          51250000000,
          51650000000,
          52410000000,
          52650000000,
          52850000000,
          53050000000,
          53330000000,
          53570000000,
          53890000000,
          54170000000,
          54370000000,
          54530000000,
          54730000000,
          54890000000,
          55210000000,
          55450000000,
          55650000000,
          55810000000,
          55970000000,
          56250000000,
          56450000000,
          56690000000,
          56850000000,
          57010000000,
          57250000000,
          57450000000,
          57650000000,
          57930000000,
          58130000000,
          58450000000,
          58810000000,
          58970000000,
          59370000000,
          59530000000,
          59850000000,
          60250000000,
          60450000000,
          60850000000,
          61010000000,
          61210000000,
          61490000000,
          61690000000,
          61890000000,
          62170000000,
          62330000000,
          62770000000,
          63010000000,
          63171000000,
          63410000000,
          63810000000,
          64130000000,
          64370000000,
          64690000000,
          65010000000,
          65210000000,
          65490000000,
          65730000000,
          65890000000,
          66090000000,
          66410000000,
          66690000000,
          67010000000,
          67250000000,
          67570000000,
          68010000000,
          68450000000,
          68610000000,
          68890000000,
          69250000000,
          69530000000,
          69731000000,
          70050000000,
          70330000000,
          70530000000,
          70770000000,
          70970000000,
          71210000000,
          71450000000,
          71810000000,
          72290000000,
          72490000000,
          72770000000,
          73090000000,
          73370000000,
          73650000000,
          73970000000,
          74330000000,
          74530000000,
          74810000000,
          75250000000,
          75490000000,
          75890000000,
          76090000000,
          76491000000,
          76650000000,
          77130000000,
          77370000000,
          77610000000,
          77810000000,
          78130000000,
          78370000000,
          78650000000,
          79010000000,
          79330000000,
          79610000000,
          79970000000,
          80370000000,
          80610000000,
          80810000000,
          81290000000,
          81490000000,
          81770000000,
          82050000000,
          82370000000,
          82530000000,
          82851000000,
          83171000000,
          83570000000,
          83810000000,
          84050000000,
          84450000000,
          84810000000,
          85170000000,
          85370000000,
          85650000000,
          86050000000,
          86210000000,
          86370000000,
          86730000000,
          87130000000,
          87370000000,
          87690000000,
          87970000000,
          88170000000,
          88530000000,
          88690000000,
          88930000000,
          89210000000,
          89411000000,
          89651000000,
          89891000000,
          90130000000,
          90450000000,
          90610000000,
          90770000000
         ],
         "xaxis": "x",
         "y": [
          100,
          100,
          100,
          100,
          100,
          100,
          100,
          100,
          100,
          100,
          100,
          100,
          100,
          100,
          100,
          100,
          100,
          100,
          100,
          100,
          100,
          100,
          100,
          100,
          100,
          5,
          0,
          0,
          0,
          0,
          0,
          0,
          0,
          0,
          0,
          0,
          0,
          19,
          28,
          32,
          36,
          54,
          78,
          85,
          82,
          82,
          80,
          87,
          100,
          100,
          100,
          100,
          100,
          100,
          100,
          100,
          100,
          100,
          100,
          100,
          100,
          100,
          100,
          100,
          100,
          100,
          100,
          100,
          100,
          100,
          100,
          100,
          100,
          100,
          100,
          100,
          100,
          100,
          100,
          5,
          0,
          0,
          0,
          0,
          0,
          0,
          0,
          0,
          2,
          0,
          22,
          22,
          39,
          62,
          62,
          74,
          100,
          100,
          100,
          100,
          100,
          100,
          100,
          100,
          100,
          100,
          100,
          100,
          100,
          100,
          0,
          0,
          21,
          21,
          100,
          100,
          100,
          100,
          100,
          81,
          100,
          100,
          100,
          100,
          100,
          100,
          100,
          100,
          100,
          0,
          0,
          0,
          0,
          0,
          0,
          0,
          0,
          0,
          0,
          0,
          22,
          29,
          35,
          35,
          51,
          53,
          74,
          88,
          100,
          100,
          100,
          100,
          100,
          100,
          100,
          100,
          100,
          100,
          100,
          100,
          100,
          100,
          100,
          100,
          100,
          0,
          0,
          0,
          0,
          0,
          0,
          0,
          0,
          0,
          0,
          0,
          0,
          0,
          0,
          0,
          0,
          17,
          27,
          46,
          64,
          68,
          97,
          100,
          100,
          100,
          100,
          100,
          100,
          100,
          100,
          100,
          100,
          100,
          100,
          100,
          100,
          100,
          100,
          100,
          100,
          100,
          100,
          100,
          100,
          100,
          100,
          100,
          100,
          100,
          100,
          100,
          100,
          16,
          0,
          0,
          0,
          0,
          0,
          0,
          0,
          0,
          34,
          69,
          79,
          87,
          100,
          100,
          100,
          100,
          100,
          100,
          100,
          100,
          100,
          100,
          100,
          100,
          100,
          100,
          100,
          100,
          100,
          100,
          100,
          100,
          100,
          100,
          100,
          100,
          100,
          100,
          12,
          0,
          0,
          0,
          0,
          0,
          0,
          0,
          0,
          1,
          48,
          58,
          65,
          75,
          87,
          100,
          100,
          100,
          100,
          100,
          100,
          100,
          100,
          100,
          100,
          100,
          100,
          100,
          100,
          100,
          100,
          100,
          100,
          100,
          100,
          100,
          100,
          100,
          100,
          100,
          100,
          100,
          100,
          1,
          0,
          0,
          0,
          0,
          0,
          0,
          0,
          7,
          31,
          59,
          71,
          77,
          100,
          100,
          100,
          100,
          100,
          100,
          100,
          100,
          100,
          100,
          100,
          100,
          100,
          100,
          100,
          100,
          100,
          100,
          100,
          100,
          100,
          100,
          100,
          100,
          100
         ],
         "yaxis": "y"
        }
       ],
       "layout": {
        "legend": {
         "title": {
          "text": "Driver"
         },
         "tracegroupgap": 0
        },
        "margin": {
         "t": 60
        },
        "template": {
         "data": {
          "bar": [
           {
            "error_x": {
             "color": "#2a3f5f"
            },
            "error_y": {
             "color": "#2a3f5f"
            },
            "marker": {
             "line": {
              "color": "#E5ECF6",
              "width": 0.5
             },
             "pattern": {
              "fillmode": "overlay",
              "size": 10,
              "solidity": 0.2
             }
            },
            "type": "bar"
           }
          ],
          "barpolar": [
           {
            "marker": {
             "line": {
              "color": "#E5ECF6",
              "width": 0.5
             },
             "pattern": {
              "fillmode": "overlay",
              "size": 10,
              "solidity": 0.2
             }
            },
            "type": "barpolar"
           }
          ],
          "carpet": [
           {
            "aaxis": {
             "endlinecolor": "#2a3f5f",
             "gridcolor": "white",
             "linecolor": "white",
             "minorgridcolor": "white",
             "startlinecolor": "#2a3f5f"
            },
            "baxis": {
             "endlinecolor": "#2a3f5f",
             "gridcolor": "white",
             "linecolor": "white",
             "minorgridcolor": "white",
             "startlinecolor": "#2a3f5f"
            },
            "type": "carpet"
           }
          ],
          "choropleth": [
           {
            "colorbar": {
             "outlinewidth": 0,
             "ticks": ""
            },
            "type": "choropleth"
           }
          ],
          "contour": [
           {
            "colorbar": {
             "outlinewidth": 0,
             "ticks": ""
            },
            "colorscale": [
             [
              0,
              "#0d0887"
             ],
             [
              0.1111111111111111,
              "#46039f"
             ],
             [
              0.2222222222222222,
              "#7201a8"
             ],
             [
              0.3333333333333333,
              "#9c179e"
             ],
             [
              0.4444444444444444,
              "#bd3786"
             ],
             [
              0.5555555555555556,
              "#d8576b"
             ],
             [
              0.6666666666666666,
              "#ed7953"
             ],
             [
              0.7777777777777778,
              "#fb9f3a"
             ],
             [
              0.8888888888888888,
              "#fdca26"
             ],
             [
              1,
              "#f0f921"
             ]
            ],
            "type": "contour"
           }
          ],
          "contourcarpet": [
           {
            "colorbar": {
             "outlinewidth": 0,
             "ticks": ""
            },
            "type": "contourcarpet"
           }
          ],
          "heatmap": [
           {
            "colorbar": {
             "outlinewidth": 0,
             "ticks": ""
            },
            "colorscale": [
             [
              0,
              "#0d0887"
             ],
             [
              0.1111111111111111,
              "#46039f"
             ],
             [
              0.2222222222222222,
              "#7201a8"
             ],
             [
              0.3333333333333333,
              "#9c179e"
             ],
             [
              0.4444444444444444,
              "#bd3786"
             ],
             [
              0.5555555555555556,
              "#d8576b"
             ],
             [
              0.6666666666666666,
              "#ed7953"
             ],
             [
              0.7777777777777778,
              "#fb9f3a"
             ],
             [
              0.8888888888888888,
              "#fdca26"
             ],
             [
              1,
              "#f0f921"
             ]
            ],
            "type": "heatmap"
           }
          ],
          "heatmapgl": [
           {
            "colorbar": {
             "outlinewidth": 0,
             "ticks": ""
            },
            "colorscale": [
             [
              0,
              "#0d0887"
             ],
             [
              0.1111111111111111,
              "#46039f"
             ],
             [
              0.2222222222222222,
              "#7201a8"
             ],
             [
              0.3333333333333333,
              "#9c179e"
             ],
             [
              0.4444444444444444,
              "#bd3786"
             ],
             [
              0.5555555555555556,
              "#d8576b"
             ],
             [
              0.6666666666666666,
              "#ed7953"
             ],
             [
              0.7777777777777778,
              "#fb9f3a"
             ],
             [
              0.8888888888888888,
              "#fdca26"
             ],
             [
              1,
              "#f0f921"
             ]
            ],
            "type": "heatmapgl"
           }
          ],
          "histogram": [
           {
            "marker": {
             "pattern": {
              "fillmode": "overlay",
              "size": 10,
              "solidity": 0.2
             }
            },
            "type": "histogram"
           }
          ],
          "histogram2d": [
           {
            "colorbar": {
             "outlinewidth": 0,
             "ticks": ""
            },
            "colorscale": [
             [
              0,
              "#0d0887"
             ],
             [
              0.1111111111111111,
              "#46039f"
             ],
             [
              0.2222222222222222,
              "#7201a8"
             ],
             [
              0.3333333333333333,
              "#9c179e"
             ],
             [
              0.4444444444444444,
              "#bd3786"
             ],
             [
              0.5555555555555556,
              "#d8576b"
             ],
             [
              0.6666666666666666,
              "#ed7953"
             ],
             [
              0.7777777777777778,
              "#fb9f3a"
             ],
             [
              0.8888888888888888,
              "#fdca26"
             ],
             [
              1,
              "#f0f921"
             ]
            ],
            "type": "histogram2d"
           }
          ],
          "histogram2dcontour": [
           {
            "colorbar": {
             "outlinewidth": 0,
             "ticks": ""
            },
            "colorscale": [
             [
              0,
              "#0d0887"
             ],
             [
              0.1111111111111111,
              "#46039f"
             ],
             [
              0.2222222222222222,
              "#7201a8"
             ],
             [
              0.3333333333333333,
              "#9c179e"
             ],
             [
              0.4444444444444444,
              "#bd3786"
             ],
             [
              0.5555555555555556,
              "#d8576b"
             ],
             [
              0.6666666666666666,
              "#ed7953"
             ],
             [
              0.7777777777777778,
              "#fb9f3a"
             ],
             [
              0.8888888888888888,
              "#fdca26"
             ],
             [
              1,
              "#f0f921"
             ]
            ],
            "type": "histogram2dcontour"
           }
          ],
          "mesh3d": [
           {
            "colorbar": {
             "outlinewidth": 0,
             "ticks": ""
            },
            "type": "mesh3d"
           }
          ],
          "parcoords": [
           {
            "line": {
             "colorbar": {
              "outlinewidth": 0,
              "ticks": ""
             }
            },
            "type": "parcoords"
           }
          ],
          "pie": [
           {
            "automargin": true,
            "type": "pie"
           }
          ],
          "scatter": [
           {
            "marker": {
             "colorbar": {
              "outlinewidth": 0,
              "ticks": ""
             }
            },
            "type": "scatter"
           }
          ],
          "scatter3d": [
           {
            "line": {
             "colorbar": {
              "outlinewidth": 0,
              "ticks": ""
             }
            },
            "marker": {
             "colorbar": {
              "outlinewidth": 0,
              "ticks": ""
             }
            },
            "type": "scatter3d"
           }
          ],
          "scattercarpet": [
           {
            "marker": {
             "colorbar": {
              "outlinewidth": 0,
              "ticks": ""
             }
            },
            "type": "scattercarpet"
           }
          ],
          "scattergeo": [
           {
            "marker": {
             "colorbar": {
              "outlinewidth": 0,
              "ticks": ""
             }
            },
            "type": "scattergeo"
           }
          ],
          "scattergl": [
           {
            "marker": {
             "colorbar": {
              "outlinewidth": 0,
              "ticks": ""
             }
            },
            "type": "scattergl"
           }
          ],
          "scattermapbox": [
           {
            "marker": {
             "colorbar": {
              "outlinewidth": 0,
              "ticks": ""
             }
            },
            "type": "scattermapbox"
           }
          ],
          "scatterpolar": [
           {
            "marker": {
             "colorbar": {
              "outlinewidth": 0,
              "ticks": ""
             }
            },
            "type": "scatterpolar"
           }
          ],
          "scatterpolargl": [
           {
            "marker": {
             "colorbar": {
              "outlinewidth": 0,
              "ticks": ""
             }
            },
            "type": "scatterpolargl"
           }
          ],
          "scatterternary": [
           {
            "marker": {
             "colorbar": {
              "outlinewidth": 0,
              "ticks": ""
             }
            },
            "type": "scatterternary"
           }
          ],
          "surface": [
           {
            "colorbar": {
             "outlinewidth": 0,
             "ticks": ""
            },
            "colorscale": [
             [
              0,
              "#0d0887"
             ],
             [
              0.1111111111111111,
              "#46039f"
             ],
             [
              0.2222222222222222,
              "#7201a8"
             ],
             [
              0.3333333333333333,
              "#9c179e"
             ],
             [
              0.4444444444444444,
              "#bd3786"
             ],
             [
              0.5555555555555556,
              "#d8576b"
             ],
             [
              0.6666666666666666,
              "#ed7953"
             ],
             [
              0.7777777777777778,
              "#fb9f3a"
             ],
             [
              0.8888888888888888,
              "#fdca26"
             ],
             [
              1,
              "#f0f921"
             ]
            ],
            "type": "surface"
           }
          ],
          "table": [
           {
            "cells": {
             "fill": {
              "color": "#EBF0F8"
             },
             "line": {
              "color": "white"
             }
            },
            "header": {
             "fill": {
              "color": "#C8D4E3"
             },
             "line": {
              "color": "white"
             }
            },
            "type": "table"
           }
          ]
         },
         "layout": {
          "annotationdefaults": {
           "arrowcolor": "#2a3f5f",
           "arrowhead": 0,
           "arrowwidth": 1
          },
          "autotypenumbers": "strict",
          "coloraxis": {
           "colorbar": {
            "outlinewidth": 0,
            "ticks": ""
           }
          },
          "colorscale": {
           "diverging": [
            [
             0,
             "#8e0152"
            ],
            [
             0.1,
             "#c51b7d"
            ],
            [
             0.2,
             "#de77ae"
            ],
            [
             0.3,
             "#f1b6da"
            ],
            [
             0.4,
             "#fde0ef"
            ],
            [
             0.5,
             "#f7f7f7"
            ],
            [
             0.6,
             "#e6f5d0"
            ],
            [
             0.7,
             "#b8e186"
            ],
            [
             0.8,
             "#7fbc41"
            ],
            [
             0.9,
             "#4d9221"
            ],
            [
             1,
             "#276419"
            ]
           ],
           "sequential": [
            [
             0,
             "#0d0887"
            ],
            [
             0.1111111111111111,
             "#46039f"
            ],
            [
             0.2222222222222222,
             "#7201a8"
            ],
            [
             0.3333333333333333,
             "#9c179e"
            ],
            [
             0.4444444444444444,
             "#bd3786"
            ],
            [
             0.5555555555555556,
             "#d8576b"
            ],
            [
             0.6666666666666666,
             "#ed7953"
            ],
            [
             0.7777777777777778,
             "#fb9f3a"
            ],
            [
             0.8888888888888888,
             "#fdca26"
            ],
            [
             1,
             "#f0f921"
            ]
           ],
           "sequentialminus": [
            [
             0,
             "#0d0887"
            ],
            [
             0.1111111111111111,
             "#46039f"
            ],
            [
             0.2222222222222222,
             "#7201a8"
            ],
            [
             0.3333333333333333,
             "#9c179e"
            ],
            [
             0.4444444444444444,
             "#bd3786"
            ],
            [
             0.5555555555555556,
             "#d8576b"
            ],
            [
             0.6666666666666666,
             "#ed7953"
            ],
            [
             0.7777777777777778,
             "#fb9f3a"
            ],
            [
             0.8888888888888888,
             "#fdca26"
            ],
            [
             1,
             "#f0f921"
            ]
           ]
          },
          "colorway": [
           "#636efa",
           "#EF553B",
           "#00cc96",
           "#ab63fa",
           "#FFA15A",
           "#19d3f3",
           "#FF6692",
           "#B6E880",
           "#FF97FF",
           "#FECB52"
          ],
          "font": {
           "color": "#2a3f5f"
          },
          "geo": {
           "bgcolor": "white",
           "lakecolor": "white",
           "landcolor": "#E5ECF6",
           "showlakes": true,
           "showland": true,
           "subunitcolor": "white"
          },
          "hoverlabel": {
           "align": "left"
          },
          "hovermode": "closest",
          "mapbox": {
           "style": "light"
          },
          "paper_bgcolor": "white",
          "plot_bgcolor": "#E5ECF6",
          "polar": {
           "angularaxis": {
            "gridcolor": "white",
            "linecolor": "white",
            "ticks": ""
           },
           "bgcolor": "#E5ECF6",
           "radialaxis": {
            "gridcolor": "white",
            "linecolor": "white",
            "ticks": ""
           }
          },
          "scene": {
           "xaxis": {
            "backgroundcolor": "#E5ECF6",
            "gridcolor": "white",
            "gridwidth": 2,
            "linecolor": "white",
            "showbackground": true,
            "ticks": "",
            "zerolinecolor": "white"
           },
           "yaxis": {
            "backgroundcolor": "#E5ECF6",
            "gridcolor": "white",
            "gridwidth": 2,
            "linecolor": "white",
            "showbackground": true,
            "ticks": "",
            "zerolinecolor": "white"
           },
           "zaxis": {
            "backgroundcolor": "#E5ECF6",
            "gridcolor": "white",
            "gridwidth": 2,
            "linecolor": "white",
            "showbackground": true,
            "ticks": "",
            "zerolinecolor": "white"
           }
          },
          "shapedefaults": {
           "line": {
            "color": "#2a3f5f"
           }
          },
          "ternary": {
           "aaxis": {
            "gridcolor": "white",
            "linecolor": "white",
            "ticks": ""
           },
           "baxis": {
            "gridcolor": "white",
            "linecolor": "white",
            "ticks": ""
           },
           "bgcolor": "#E5ECF6",
           "caxis": {
            "gridcolor": "white",
            "linecolor": "white",
            "ticks": ""
           }
          },
          "title": {
           "x": 0.05
          },
          "xaxis": {
           "automargin": true,
           "gridcolor": "white",
           "linecolor": "white",
           "ticks": "",
           "title": {
            "standoff": 15
           },
           "zerolinecolor": "white",
           "zerolinewidth": 2
          },
          "yaxis": {
           "automargin": true,
           "gridcolor": "white",
           "linecolor": "white",
           "ticks": "",
           "title": {
            "standoff": 15
           },
           "zerolinecolor": "white",
           "zerolinewidth": 2
          }
         }
        },
        "xaxis": {
         "anchor": "y",
         "domain": [
          0,
          1
         ],
         "title": {
          "text": "Time"
         }
        },
        "yaxis": {
         "anchor": "x",
         "domain": [
          0,
          1
         ],
         "title": {
          "text": "Throttle"
         }
        }
       }
      }
     },
     "metadata": {},
     "output_type": "display_data"
    }
   ],
   "source": [
    "fig = px.line(telemetry, \"Time\", \"Throttle\", color=\"Driver\")\n",
    "fig.show()"
   ]
  },
  {
   "cell_type": "code",
   "execution_count": 28,
   "metadata": {},
   "outputs": [
    {
     "data": {
      "text/plain": [
       "Driver\n",
       "PER   0 days 00:01:30.770000\n",
       "RUS   0 days 00:01:31.123000\n",
       "Name: Time, dtype: timedelta64[ns]"
      ]
     },
     "execution_count": 28,
     "metadata": {},
     "output_type": "execute_result"
    }
   ],
   "source": [
    "telemetry.groupby(\"Driver\").Time.max()"
   ]
  },
  {
   "cell_type": "code",
   "execution_count": null,
   "metadata": {},
   "outputs": [],
   "source": []
  }
 ],
 "metadata": {
  "interpreter": {
   "hash": "3c8de80b5a95b28fab3e3657044e8c7aa676af9b11a47041ce08e96b1d1c1be6"
  },
  "kernelspec": {
   "display_name": "Python 3.9.7 ('f1')",
   "language": "python",
   "name": "python3"
  },
  "language_info": {
   "codemirror_mode": {
    "name": "ipython",
    "version": 3
   },
   "file_extension": ".py",
   "mimetype": "text/x-python",
   "name": "python",
   "nbconvert_exporter": "python",
   "pygments_lexer": "ipython3",
   "version": "3.9.7"
  },
  "orig_nbformat": 4
 },
 "nbformat": 4,
 "nbformat_minor": 2
}
